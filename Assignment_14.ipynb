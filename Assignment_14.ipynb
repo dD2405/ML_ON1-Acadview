{
  "nbformat": 4,
  "nbformat_minor": 0,
  "metadata": {
    "colab": {
      "name": "Assignment_14.ipynb",
      "version": "0.3.2",
      "provenance": []
    },
    "kernelspec": {
      "name": "python3",
      "display_name": "Python 3"
    }
  },
  "cells": [
    {
      "cell_type": "markdown",
      "metadata": {
        "id": "view-in-github",
        "colab_type": "text"
      },
      "source": [
        "[View in Colaboratory](https://colab.research.google.com/github/dD2405/ML_ON1-Acadview/blob/master/Assignment_14.ipynb)"
      ]
    },
    {
      "metadata": {
        "id": "HSyZsOxSIaMs",
        "colab_type": "text"
      },
      "cell_type": "markdown",
      "source": [
        "#  **Q-1** "
      ]
    },
    {
      "metadata": {
        "id": "KKGtLym1Y26x",
        "colab_type": "text"
      },
      "cell_type": "markdown",
      "source": [
        "##p(Yes|Sunny ) = {p(Sunny|Yes ) X p(Yes)}/p(Sunny)\n",
        "##p(Yes|Sunny ) = {0.33 X 0.64 }/0.36\n",
        "##p(Yes|Sunny ) = 0.6\n",
        "\n"
      ]
    },
    {
      "metadata": {
        "id": "jd3vzJ-aIs3m",
        "colab_type": "text"
      },
      "cell_type": "markdown",
      "source": [
        "# Q-2"
      ]
    },
    {
      "metadata": {
        "id": "KUIJvmATXGGT",
        "colab_type": "text"
      },
      "cell_type": "markdown",
      "source": [
        "### a) Import iris dataset from sklearn"
      ]
    },
    {
      "metadata": {
        "id": "1StwxrUrIwpU",
        "colab_type": "code",
        "colab": {}
      },
      "cell_type": "code",
      "source": [
        "\n",
        "\n",
        "from sklearn.datasets import load_iris\n",
        "iris = datasets.load_iris()"
      ],
      "execution_count": 0,
      "outputs": []
    },
    {
      "metadata": {
        "id": "npcK0GGnXNUS",
        "colab_type": "text"
      },
      "cell_type": "markdown",
      "source": [
        "### b) Split the dataset into training and testing sets using train_test_split() "
      ]
    },
    {
      "metadata": {
        "id": "omdmAttyIwqs",
        "colab_type": "code",
        "colab": {}
      },
      "cell_type": "code",
      "source": [
        "\n",
        "\n",
        "from sklearn.cross_validation import train_test_split\n",
        "x = iris.data\n",
        "y = iris.target\n",
        "\n"
      ],
      "execution_count": 0,
      "outputs": []
    },
    {
      "metadata": {
        "id": "KLDwe0GsKdL9",
        "colab_type": "code",
        "colab": {}
      },
      "cell_type": "code",
      "source": [
        "x_train , x_test , y_train , y_test = train_test_split(x, y , test_size = 0.30,random_state =22)\n"
      ],
      "execution_count": 0,
      "outputs": []
    },
    {
      "metadata": {
        "id": "60RvM31vVzTG",
        "colab_type": "code",
        "colab": {}
      },
      "cell_type": "code",
      "source": [
        "from sklearn.metrics import classification_report, confusion_matrix\n"
      ],
      "execution_count": 0,
      "outputs": []
    },
    {
      "metadata": {
        "id": "Nq8p09YUXbWn",
        "colab_type": "text"
      },
      "cell_type": "markdown",
      "source": [
        "### c) Use GaussianNB and print the following:"
      ]
    },
    {
      "metadata": {
        "id": "_phxqdc_TNBs",
        "colab_type": "code",
        "colab": {}
      },
      "cell_type": "code",
      "source": [
        "\n",
        "\n",
        "from sklearn.naive_bayes import GaussianNB\n",
        "\n",
        "clf = GaussianNB()\n",
        "clf.fit(x_train, y_train)\n",
        "y_pred = clf.predict(x_test)"
      ],
      "execution_count": 0,
      "outputs": []
    },
    {
      "metadata": {
        "id": "LDvXDqZgXgD2",
        "colab_type": "text"
      },
      "cell_type": "markdown",
      "source": [
        "#### i) confusion matrix"
      ]
    },
    {
      "metadata": {
        "id": "w0sU6BR4UUg8",
        "colab_type": "code",
        "colab": {
          "base_uri": "https://localhost:8080/",
          "height": 68
        },
        "outputId": "6693d11b-c625-438d-f3de-b21dfd32736f"
      },
      "cell_type": "code",
      "source": [
        "\n",
        "\n",
        "confusion_matrix(y_test, y_pred)"
      ],
      "execution_count": 30,
      "outputs": [
        {
          "output_type": "execute_result",
          "data": {
            "text/plain": [
              "array([[13,  0,  0],\n",
              "       [ 0, 15,  1],\n",
              "       [ 0,  1, 15]])"
            ]
          },
          "metadata": {
            "tags": []
          },
          "execution_count": 30
        }
      ]
    },
    {
      "metadata": {
        "id": "vpre6MB3Xm9U",
        "colab_type": "text"
      },
      "cell_type": "markdown",
      "source": [
        "#### ii) Classification Report"
      ]
    },
    {
      "metadata": {
        "id": "TErdJKEYVSRU",
        "colab_type": "code",
        "colab": {
          "base_uri": "https://localhost:8080/",
          "height": 153
        },
        "outputId": "cead6d7c-52d4-4838-fcf9-2839cf20afc6"
      },
      "cell_type": "code",
      "source": [
        "\n",
        "\n",
        "rep = classification_report(y_test, y_pred)\n",
        "print(rep)"
      ],
      "execution_count": 32,
      "outputs": [
        {
          "output_type": "stream",
          "text": [
            "             precision    recall  f1-score   support\n",
            "\n",
            "          0       1.00      1.00      1.00        13\n",
            "          1       0.94      0.94      0.94        16\n",
            "          2       0.94      0.94      0.94        16\n",
            "\n",
            "avg / total       0.96      0.96      0.96        45\n",
            "\n"
          ],
          "name": "stdout"
        }
      ]
    },
    {
      "metadata": {
        "id": "xlMxtep8Xr47",
        "colab_type": "text"
      },
      "cell_type": "markdown",
      "source": [
        "### d) Use MultinomialNB and print the following:\n",
        "\n",
        "\n"
      ]
    },
    {
      "metadata": {
        "id": "pgsnhseyVvOa",
        "colab_type": "code",
        "colab": {}
      },
      "cell_type": "code",
      "source": [
        "\n",
        "from sklearn.naive_bayes import MultinomialNB\n",
        "\n",
        "mul = MultinomialNB()\n",
        "mul.fit(x_train,y_train)\n",
        "y_pred1 = mul.predict(x_test)"
      ],
      "execution_count": 0,
      "outputs": []
    },
    {
      "metadata": {
        "id": "mxLIT3xYX2M7",
        "colab_type": "text"
      },
      "cell_type": "markdown",
      "source": [
        "#### i) confusion matrix"
      ]
    },
    {
      "metadata": {
        "id": "qd_yklDhWT3f",
        "colab_type": "code",
        "colab": {
          "base_uri": "https://localhost:8080/",
          "height": 68
        },
        "outputId": "730c024a-55bb-44ae-8f1c-bd2f05885ec8"
      },
      "cell_type": "code",
      "source": [
        "\n",
        "\n",
        "\n",
        "confusion_matrix(y_test, y_pred1)"
      ],
      "execution_count": 39,
      "outputs": [
        {
          "output_type": "execute_result",
          "data": {
            "text/plain": [
              "array([[13,  0,  0],\n",
              "       [ 0, 16,  0],\n",
              "       [ 0,  2, 14]])"
            ]
          },
          "metadata": {
            "tags": []
          },
          "execution_count": 39
        }
      ]
    },
    {
      "metadata": {
        "id": "uwPjr0DIX6ri",
        "colab_type": "text"
      },
      "cell_type": "markdown",
      "source": [
        "#### ii) Classification Report"
      ]
    },
    {
      "metadata": {
        "id": "Kt57oGg0WZeH",
        "colab_type": "code",
        "colab": {
          "base_uri": "https://localhost:8080/",
          "height": 153
        },
        "outputId": "fa80fb31-bce0-43d8-b1c6-159b89c70ce5"
      },
      "cell_type": "code",
      "source": [
        "\n",
        "\n",
        "rep1 = classification_report(y_test, y_pred1)\n",
        "print(rep1)"
      ],
      "execution_count": 41,
      "outputs": [
        {
          "output_type": "stream",
          "text": [
            "             precision    recall  f1-score   support\n",
            "\n",
            "          0       1.00      1.00      1.00        13\n",
            "          1       0.89      1.00      0.94        16\n",
            "          2       1.00      0.88      0.93        16\n",
            "\n",
            "avg / total       0.96      0.96      0.96        45\n",
            "\n"
          ],
          "name": "stdout"
        }
      ]
    }
  ]
}