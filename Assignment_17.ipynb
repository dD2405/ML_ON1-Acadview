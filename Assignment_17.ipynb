{
  "nbformat": 4,
  "nbformat_minor": 0,
  "metadata": {
    "colab": {
      "name": "Assignment_17.ipynb",
      "version": "0.3.2",
      "provenance": [],
      "include_colab_link": true
    },
    "kernelspec": {
      "name": "python3",
      "display_name": "Python 3"
    }
  },
  "cells": [
    {
      "cell_type": "markdown",
      "metadata": {
        "id": "view-in-github",
        "colab_type": "text"
      },
      "source": [
        "[View in Colaboratory](https://colab.research.google.com/github/dD2405/ML_ON1-Acadview/blob/master/Assignment_17.ipynb)"
      ]
    },
    {
      "metadata": {
        "id": "njIQYwmA4PHz",
        "colab_type": "text"
      },
      "cell_type": "markdown",
      "source": [
        "## Import MNIST dataset from sklearn. Save data and targets in variables X and Y respectively"
      ]
    },
    {
      "metadata": {
        "id": "2AmTU6E04PTU",
        "colab_type": "code",
        "colab": {
          "base_uri": "https://localhost:8080/",
          "height": 17
        },
        "outputId": "f2020d4d-aca7-4538-e526-48d258a11cf6"
      },
      "cell_type": "code",
      "source": [
        "from sklearn.datasets import load_digits\n",
        "var = load_digits()"
      ],
      "execution_count": 107,
      "outputs": []
    },
    {
      "metadata": {
        "id": "KWcDtmRm4h2K",
        "colab_type": "code",
        "colab": {
          "base_uri": "https://localhost:8080/",
          "height": 136
        },
        "outputId": "ad509382-ed2e-4398-d92b-e82619dcd864"
      },
      "cell_type": "code",
      "source": [
        "x = var.data\n",
        "x"
      ],
      "execution_count": 108,
      "outputs": [
        {
          "output_type": "execute_result",
          "data": {
            "text/plain": [
              "array([[ 0.,  0.,  5., ...,  0.,  0.,  0.],\n",
              "       [ 0.,  0.,  0., ..., 10.,  0.,  0.],\n",
              "       [ 0.,  0.,  0., ..., 16.,  9.,  0.],\n",
              "       ...,\n",
              "       [ 0.,  0.,  1., ...,  6.,  0.,  0.],\n",
              "       [ 0.,  0.,  2., ..., 12.,  0.,  0.],\n",
              "       [ 0.,  0., 10., ..., 12.,  1.,  0.]])"
            ]
          },
          "metadata": {
            "tags": []
          },
          "execution_count": 108
        }
      ]
    },
    {
      "metadata": {
        "id": "u7qU2N_n4jg8",
        "colab_type": "code",
        "colab": {
          "base_uri": "https://localhost:8080/",
          "height": 34
        },
        "outputId": "a33e8610-e485-4fa2-e43d-c2b45026c880"
      },
      "cell_type": "code",
      "source": [
        "y = var.target\n",
        "y"
      ],
      "execution_count": 109,
      "outputs": [
        {
          "output_type": "execute_result",
          "data": {
            "text/plain": [
              "array([0, 1, 2, ..., 8, 9, 8])"
            ]
          },
          "metadata": {
            "tags": []
          },
          "execution_count": 109
        }
      ]
    },
    {
      "metadata": {
        "id": "aMwSUHjv_S-A",
        "colab_type": "text"
      },
      "cell_type": "markdown",
      "source": [
        "##Perform feature scaling"
      ]
    },
    {
      "metadata": {
        "id": "vTMCatlY-qcW",
        "colab_type": "code",
        "colab": {
          "base_uri": "https://localhost:8080/",
          "height": 238
        },
        "outputId": "aa5a8d6b-abb7-4e10-b21c-0825ea29fe1d"
      },
      "cell_type": "code",
      "source": [
        "from sklearn.preprocessing import StandardScaler\n",
        "\n",
        "scaler = StandardScaler()\n",
        "\n",
        "x = scaler.fit_transform(x)\n",
        "x "
      ],
      "execution_count": 110,
      "outputs": [
        {
          "output_type": "execute_result",
          "data": {
            "text/plain": [
              "array([[ 0.        , -0.33501649, -0.04308102, ..., -1.14664746,\n",
              "        -0.5056698 , -0.19600752],\n",
              "       [ 0.        , -0.33501649, -1.09493684, ...,  0.54856067,\n",
              "        -0.5056698 , -0.19600752],\n",
              "       [ 0.        , -0.33501649, -1.09493684, ...,  1.56568555,\n",
              "         1.6951369 , -0.19600752],\n",
              "       ...,\n",
              "       [ 0.        , -0.33501649, -0.88456568, ..., -0.12952258,\n",
              "        -0.5056698 , -0.19600752],\n",
              "       [ 0.        , -0.33501649, -0.67419451, ...,  0.8876023 ,\n",
              "        -0.5056698 , -0.19600752],\n",
              "       [ 0.        , -0.33501649,  1.00877481, ...,  0.8876023 ,\n",
              "        -0.26113572, -0.19600752]])"
            ]
          },
          "metadata": {
            "tags": []
          },
          "execution_count": 110
        }
      ]
    },
    {
      "metadata": {
        "id": "cG3PqWAE6tNf",
        "colab_type": "text"
      },
      "cell_type": "markdown",
      "source": [
        "##Split data into training and testing sets."
      ]
    },
    {
      "metadata": {
        "id": "w_2tjEgC58H9",
        "colab_type": "code",
        "colab": {
          "base_uri": "https://localhost:8080/",
          "height": 17
        },
        "outputId": "c94d3200-7dd5-4f22-efd8-4b22f9b7b960"
      },
      "cell_type": "code",
      "source": [
        "from sklearn.cross_validation import train_test_split\n",
        "\n",
        "x_train , x_test , y_train , y_test = train_test_split(x, y , test_size = 0.40,random_state =210)"
      ],
      "execution_count": 111,
      "outputs": []
    },
    {
      "metadata": {
        "id": "z1TUzsRM8llv",
        "colab_type": "text"
      },
      "cell_type": "markdown",
      "source": [
        "##Perform PCA. Take any value for components"
      ]
    },
    {
      "metadata": {
        "id": "6psrJTT0Gj2B",
        "colab_type": "code",
        "colab": {
          "base_uri": "https://localhost:8080/",
          "height": 17
        },
        "outputId": "376e3a69-71a7-4ea7-df4f-e6a9249215a5"
      },
      "cell_type": "code",
      "source": [
        "from sklearn.decomposition import PCA\n",
        "\n",
        "pca = PCA(n_components = 0.98)  \n",
        "\n",
        "pca.fit(x_train)\n",
        "x_train = pca.transform(x_train)  \n",
        "x_test = pca.transform(x_test)  "
      ],
      "execution_count": 112,
      "outputs": []
    },
    {
      "metadata": {
        "id": "2LKP8HWf_fJE",
        "colab_type": "text"
      },
      "cell_type": "markdown",
      "source": [
        "##Perform classification (logistic regression)"
      ]
    },
    {
      "metadata": {
        "id": "R4fAUJVI_lcN",
        "colab_type": "code",
        "colab": {
          "base_uri": "https://localhost:8080/",
          "height": 17
        },
        "outputId": "908d9b0d-f7f9-4309-ec1f-bf8c80f14f4e"
      },
      "cell_type": "code",
      "source": [
        "from sklearn.linear_model import LogisticRegression\n",
        "reg = LogisticRegression()\n"
      ],
      "execution_count": 113,
      "outputs": []
    },
    {
      "metadata": {
        "id": "-C_pdBKl_uCG",
        "colab_type": "code",
        "colab": {
          "base_uri": "https://localhost:8080/",
          "height": 85
        },
        "outputId": "380a6924-4889-42fb-811f-b9cdd1e94656"
      },
      "cell_type": "code",
      "source": [
        "reg.fit(x_train,y_train)"
      ],
      "execution_count": 114,
      "outputs": [
        {
          "output_type": "execute_result",
          "data": {
            "text/plain": [
              "LogisticRegression(C=1.0, class_weight=None, dual=False, fit_intercept=True,\n",
              "          intercept_scaling=1, max_iter=100, multi_class='ovr', n_jobs=1,\n",
              "          penalty='l2', random_state=None, solver='liblinear', tol=0.0001,\n",
              "          verbose=0, warm_start=False)"
            ]
          },
          "metadata": {
            "tags": []
          },
          "execution_count": 114
        }
      ]
    },
    {
      "metadata": {
        "id": "fsWE7gY9_8nS",
        "colab_type": "text"
      },
      "cell_type": "markdown",
      "source": [
        "##Print the following: "
      ]
    },
    {
      "metadata": {
        "id": "CeytMqrHAfTC",
        "colab_type": "code",
        "colab": {
          "base_uri": "https://localhost:8080/",
          "height": 17
        },
        "outputId": "24eb5905-3247-435e-e96d-d7c78e010179"
      },
      "cell_type": "code",
      "source": [
        "from sklearn.metrics import confusion_matrix,classification_report\n",
        "\n",
        "y_pred = reg.predict(x_test)"
      ],
      "execution_count": 115,
      "outputs": []
    },
    {
      "metadata": {
        "id": "5BwqHTPy__aD",
        "colab_type": "text"
      },
      "cell_type": "markdown",
      "source": [
        "###a. Accuracy score"
      ]
    },
    {
      "metadata": {
        "id": "WdTyiVi6ALVM",
        "colab_type": "code",
        "colab": {
          "base_uri": "https://localhost:8080/",
          "height": 34
        },
        "outputId": "95e2fe3f-6bca-4bbc-c65d-43f742cfd568"
      },
      "cell_type": "code",
      "source": [
        "reg.score(x_test,y_test)"
      ],
      "execution_count": 116,
      "outputs": [
        {
          "output_type": "execute_result",
          "data": {
            "text/plain": [
              "0.9666203059805285"
            ]
          },
          "metadata": {
            "tags": []
          },
          "execution_count": 116
        }
      ]
    },
    {
      "metadata": {
        "id": "5NH-4FDjABAY",
        "colab_type": "text"
      },
      "cell_type": "markdown",
      "source": [
        "###b. Confusion Matrix"
      ]
    },
    {
      "metadata": {
        "id": "J-jhY-o0AWxA",
        "colab_type": "code",
        "colab": {
          "base_uri": "https://localhost:8080/",
          "height": 187
        },
        "outputId": "9c6c75d7-13e5-4935-acd2-ac77fdc2f15f"
      },
      "cell_type": "code",
      "source": [
        "confusion_matrix(y_test, y_pred)"
      ],
      "execution_count": 117,
      "outputs": [
        {
          "output_type": "execute_result",
          "data": {
            "text/plain": [
              "array([[87,  0,  0,  0,  0,  0,  0,  0,  0,  0],\n",
              "       [ 0, 65,  0,  0,  0,  0,  0,  0,  0,  1],\n",
              "       [ 0,  0, 72,  0,  0,  0,  0,  0,  1,  0],\n",
              "       [ 0,  1,  1, 70,  0,  0,  0,  0,  2,  0],\n",
              "       [ 0,  0,  0,  0, 74,  0,  0,  1,  0,  2],\n",
              "       [ 0,  0,  0,  0,  0, 56,  0,  0,  0,  2],\n",
              "       [ 0,  1,  0,  0,  1,  0, 71,  0,  0,  0],\n",
              "       [ 0,  0,  0,  1,  0,  1,  0, 73,  1,  0],\n",
              "       [ 0,  2,  0,  0,  0,  2,  0,  1, 63,  0],\n",
              "       [ 1,  0,  0,  0,  0,  1,  0,  0,  1, 64]])"
            ]
          },
          "metadata": {
            "tags": []
          },
          "execution_count": 117
        }
      ]
    },
    {
      "metadata": {
        "id": "X9z_mnivAECQ",
        "colab_type": "text"
      },
      "cell_type": "markdown",
      "source": [
        "###c. Classification Report\n",
        "\n"
      ]
    },
    {
      "metadata": {
        "id": "wXgcqkC2AKHo",
        "colab_type": "code",
        "colab": {
          "base_uri": "https://localhost:8080/",
          "height": 272
        },
        "outputId": "15b161af-af88-409d-fb67-01ccc7573cf8"
      },
      "cell_type": "code",
      "source": [
        "report = classification_report(y_test,y_pred)\n",
        "print(report)"
      ],
      "execution_count": 118,
      "outputs": [
        {
          "output_type": "stream",
          "text": [
            "             precision    recall  f1-score   support\n",
            "\n",
            "          0       0.99      1.00      0.99        87\n",
            "          1       0.94      0.98      0.96        66\n",
            "          2       0.99      0.99      0.99        73\n",
            "          3       0.99      0.95      0.97        74\n",
            "          4       0.99      0.96      0.97        77\n",
            "          5       0.93      0.97      0.95        58\n",
            "          6       1.00      0.97      0.99        73\n",
            "          7       0.97      0.96      0.97        76\n",
            "          8       0.93      0.93      0.93        68\n",
            "          9       0.93      0.96      0.94        67\n",
            "\n",
            "avg / total       0.97      0.97      0.97       719\n",
            "\n"
          ],
          "name": "stdout"
        }
      ]
    }
  ]
}