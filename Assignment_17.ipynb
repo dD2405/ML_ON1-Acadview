{
  "nbformat": 4,
  "nbformat_minor": 0,
  "metadata": {
    "colab": {
      "name": "Assignment_17.ipynb",
      "version": "0.3.2",
      "provenance": [],
      "include_colab_link": true
    },
    "kernelspec": {
      "name": "python3",
      "display_name": "Python 3"
    }
  },
  "cells": [
    {
      "cell_type": "markdown",
      "metadata": {
        "id": "view-in-github",
        "colab_type": "text"
      },
      "source": [
        "[View in Colaboratory](https://colab.research.google.com/github/dD2405/ML_ON1-Acadview/blob/master/Assignment_17.ipynb)"
      ]
    },
    {
      "metadata": {
        "id": "njIQYwmA4PHz",
        "colab_type": "text"
      },
      "cell_type": "markdown",
      "source": [
        "## Import MNIST dataset from sklearn. Save data and targets in variables X and Y respectively"
      ]
    },
    {
      "metadata": {
        "id": "2AmTU6E04PTU",
        "colab_type": "code",
        "colab": {}
      },
      "cell_type": "code",
      "source": [
        "from sklearn.datasets import load_digits\n",
        "var = load_digits()"
      ],
      "execution_count": 0,
      "outputs": []
    },
    {
      "metadata": {
        "id": "KWcDtmRm4h2K",
        "colab_type": "code",
        "colab": {
          "base_uri": "https://localhost:8080/",
          "height": 136
        },
        "outputId": "97236478-711a-4c4c-e437-6d5de7a1fd82"
      },
      "cell_type": "code",
      "source": [
        "x = var.data\n",
        "x"
      ],
      "execution_count": 97,
      "outputs": [
        {
          "output_type": "execute_result",
          "data": {
            "text/plain": [
              "array([[ 0.,  0.,  5., ...,  0.,  0.,  0.],\n",
              "       [ 0.,  0.,  0., ..., 10.,  0.,  0.],\n",
              "       [ 0.,  0.,  0., ..., 16.,  9.,  0.],\n",
              "       ...,\n",
              "       [ 0.,  0.,  1., ...,  6.,  0.,  0.],\n",
              "       [ 0.,  0.,  2., ..., 12.,  0.,  0.],\n",
              "       [ 0.,  0., 10., ..., 12.,  1.,  0.]])"
            ]
          },
          "metadata": {
            "tags": []
          },
          "execution_count": 97
        }
      ]
    },
    {
      "metadata": {
        "id": "u7qU2N_n4jg8",
        "colab_type": "code",
        "colab": {
          "base_uri": "https://localhost:8080/",
          "height": 34
        },
        "outputId": "ca1cd944-d435-47ce-ab8f-cd2fcb5fce57"
      },
      "cell_type": "code",
      "source": [
        "y = var.target\n",
        "y"
      ],
      "execution_count": 98,
      "outputs": [
        {
          "output_type": "execute_result",
          "data": {
            "text/plain": [
              "array([0, 1, 2, ..., 8, 9, 8])"
            ]
          },
          "metadata": {
            "tags": []
          },
          "execution_count": 98
        }
      ]
    },
    {
      "metadata": {
        "id": "aMwSUHjv_S-A",
        "colab_type": "text"
      },
      "cell_type": "markdown",
      "source": [
        "##Perform feature scaling"
      ]
    },
    {
      "metadata": {
        "id": "vTMCatlY-qcW",
        "colab_type": "code",
        "colab": {
          "base_uri": "https://localhost:8080/",
          "height": 238
        },
        "outputId": "cdd29de0-ab27-4e59-fad5-366a794050d8"
      },
      "cell_type": "code",
      "source": [
        "from sklearn.preprocessing import StandardScaler\n",
        "\n",
        "scaler = StandardScaler()\n",
        "\n",
        "x = scaler.fit_transform(x)\n",
        "x "
      ],
      "execution_count": 99,
      "outputs": [
        {
          "output_type": "execute_result",
          "data": {
            "text/plain": [
              "array([[ 0.        , -0.33501649, -0.04308102, ..., -1.14664746,\n",
              "        -0.5056698 , -0.19600752],\n",
              "       [ 0.        , -0.33501649, -1.09493684, ...,  0.54856067,\n",
              "        -0.5056698 , -0.19600752],\n",
              "       [ 0.        , -0.33501649, -1.09493684, ...,  1.56568555,\n",
              "         1.6951369 , -0.19600752],\n",
              "       ...,\n",
              "       [ 0.        , -0.33501649, -0.88456568, ..., -0.12952258,\n",
              "        -0.5056698 , -0.19600752],\n",
              "       [ 0.        , -0.33501649, -0.67419451, ...,  0.8876023 ,\n",
              "        -0.5056698 , -0.19600752],\n",
              "       [ 0.        , -0.33501649,  1.00877481, ...,  0.8876023 ,\n",
              "        -0.26113572, -0.19600752]])"
            ]
          },
          "metadata": {
            "tags": []
          },
          "execution_count": 99
        }
      ]
    },
    {
      "metadata": {
        "id": "_hl7Ttn0Dd5S",
        "colab_type": "text"
      },
      "cell_type": "markdown",
      "source": [
        "##Perform PCA. Take any value for components"
      ]
    },
    {
      "metadata": {
        "id": "8BfBZLL_CtCJ",
        "colab_type": "code",
        "colab": {
          "base_uri": "https://localhost:8080/",
          "height": 51
        },
        "outputId": "294961f2-5a74-4d1c-fb0f-18e6d8876843"
      },
      "cell_type": "code",
      "source": [
        "from sklearn.decomposition import PCA\n",
        "\n",
        "pca = PCA(n_components = 2)\n",
        "pca.fit(x)\n"
      ],
      "execution_count": 101,
      "outputs": [
        {
          "output_type": "execute_result",
          "data": {
            "text/plain": [
              "PCA(copy=True, iterated_power='auto', n_components=2, random_state=None,\n",
              "  svd_solver='auto', tol=0.0, whiten=False)"
            ]
          },
          "metadata": {
            "tags": []
          },
          "execution_count": 101
        }
      ]
    },
    {
      "metadata": {
        "id": "cG3PqWAE6tNf",
        "colab_type": "text"
      },
      "cell_type": "markdown",
      "source": [
        "##Split data into training and testing sets."
      ]
    },
    {
      "metadata": {
        "id": "w_2tjEgC58H9",
        "colab_type": "code",
        "colab": {}
      },
      "cell_type": "code",
      "source": [
        "from sklearn.cross_validation import train_test_split\n",
        "\n",
        "x_train , x_test , y_train , y_test = train_test_split(x, y , test_size = 0.40,random_state =210)"
      ],
      "execution_count": 0,
      "outputs": []
    },
    {
      "metadata": {
        "id": "z1TUzsRM8llv",
        "colab_type": "text"
      },
      "cell_type": "markdown",
      "source": [
        ""
      ]
    },
    {
      "metadata": {
        "id": "2LKP8HWf_fJE",
        "colab_type": "text"
      },
      "cell_type": "markdown",
      "source": [
        "##Perform classification (logistic regression)"
      ]
    },
    {
      "metadata": {
        "id": "R4fAUJVI_lcN",
        "colab_type": "code",
        "colab": {}
      },
      "cell_type": "code",
      "source": [
        "from sklearn.linear_model import LogisticRegression\n",
        "reg = LogisticRegression()\n"
      ],
      "execution_count": 0,
      "outputs": []
    },
    {
      "metadata": {
        "id": "-C_pdBKl_uCG",
        "colab_type": "code",
        "colab": {
          "base_uri": "https://localhost:8080/",
          "height": 85
        },
        "outputId": "454ed77c-c9ab-441f-906c-67a408a99ea1"
      },
      "cell_type": "code",
      "source": [
        "reg.fit(x_train,y_train)"
      ],
      "execution_count": 104,
      "outputs": [
        {
          "output_type": "execute_result",
          "data": {
            "text/plain": [
              "LogisticRegression(C=1.0, class_weight=None, dual=False, fit_intercept=True,\n",
              "          intercept_scaling=1, max_iter=100, multi_class='ovr', n_jobs=1,\n",
              "          penalty='l2', random_state=None, solver='liblinear', tol=0.0001,\n",
              "          verbose=0, warm_start=False)"
            ]
          },
          "metadata": {
            "tags": []
          },
          "execution_count": 104
        }
      ]
    },
    {
      "metadata": {
        "id": "fsWE7gY9_8nS",
        "colab_type": "text"
      },
      "cell_type": "markdown",
      "source": [
        "##Print the following: "
      ]
    },
    {
      "metadata": {
        "id": "CeytMqrHAfTC",
        "colab_type": "code",
        "colab": {}
      },
      "cell_type": "code",
      "source": [
        "from sklearn.metrics import confusion_matrix,classification_report\n",
        "\n",
        "y_pred = reg.predict(x_test)"
      ],
      "execution_count": 0,
      "outputs": []
    },
    {
      "metadata": {
        "id": "5BwqHTPy__aD",
        "colab_type": "text"
      },
      "cell_type": "markdown",
      "source": [
        "###a. Accuracy score"
      ]
    },
    {
      "metadata": {
        "id": "WdTyiVi6ALVM",
        "colab_type": "code",
        "colab": {
          "base_uri": "https://localhost:8080/",
          "height": 34
        },
        "outputId": "5a3ec389-529c-44e7-9aca-e42c31ce2c9c"
      },
      "cell_type": "code",
      "source": [
        "reg.score(x_test,y_test)"
      ],
      "execution_count": 106,
      "outputs": [
        {
          "output_type": "execute_result",
          "data": {
            "text/plain": [
              "0.96105702364395"
            ]
          },
          "metadata": {
            "tags": []
          },
          "execution_count": 106
        }
      ]
    },
    {
      "metadata": {
        "id": "5NH-4FDjABAY",
        "colab_type": "text"
      },
      "cell_type": "markdown",
      "source": [
        "###b. Confusion Matrix"
      ]
    },
    {
      "metadata": {
        "id": "J-jhY-o0AWxA",
        "colab_type": "code",
        "colab": {
          "base_uri": "https://localhost:8080/",
          "height": 187
        },
        "outputId": "744c3e72-dbf7-43e6-c14f-d00bbd9f36c6"
      },
      "cell_type": "code",
      "source": [
        "confusion_matrix(y_test, y_pred)"
      ],
      "execution_count": 107,
      "outputs": [
        {
          "output_type": "execute_result",
          "data": {
            "text/plain": [
              "array([[87,  0,  0,  0,  0,  0,  0,  0,  0,  0],\n",
              "       [ 0, 63,  0,  0,  0,  0,  0,  0,  2,  1],\n",
              "       [ 0,  0, 72,  0,  0,  0,  0,  0,  1,  0],\n",
              "       [ 0,  0,  0, 71,  0,  0,  0,  0,  3,  0],\n",
              "       [ 0,  0,  0,  0, 74,  0,  0,  1,  0,  2],\n",
              "       [ 0,  0,  0,  0,  0, 56,  0,  0,  0,  2],\n",
              "       [ 0,  0,  0,  0,  1,  0, 72,  0,  0,  0],\n",
              "       [ 0,  0,  0,  1,  0,  0,  0, 72,  0,  3],\n",
              "       [ 0,  3,  0,  0,  0,  1,  0,  1, 62,  1],\n",
              "       [ 1,  0,  0,  1,  0,  1,  0,  1,  1, 62]])"
            ]
          },
          "metadata": {
            "tags": []
          },
          "execution_count": 107
        }
      ]
    },
    {
      "metadata": {
        "id": "X9z_mnivAECQ",
        "colab_type": "text"
      },
      "cell_type": "markdown",
      "source": [
        "###c. Classification Report\n",
        "\n"
      ]
    },
    {
      "metadata": {
        "id": "wXgcqkC2AKHo",
        "colab_type": "code",
        "colab": {
          "base_uri": "https://localhost:8080/",
          "height": 272
        },
        "outputId": "867593fb-0d1e-4a33-9cb9-1b8e03ef3b28"
      },
      "cell_type": "code",
      "source": [
        "report = classification_report(y_test,y_pred)\n",
        "print(report)"
      ],
      "execution_count": 108,
      "outputs": [
        {
          "output_type": "stream",
          "text": [
            "             precision    recall  f1-score   support\n",
            "\n",
            "          0       0.99      1.00      0.99        87\n",
            "          1       0.95      0.95      0.95        66\n",
            "          2       1.00      0.99      0.99        73\n",
            "          3       0.97      0.96      0.97        74\n",
            "          4       0.99      0.96      0.97        77\n",
            "          5       0.97      0.97      0.97        58\n",
            "          6       1.00      0.99      0.99        73\n",
            "          7       0.96      0.95      0.95        76\n",
            "          8       0.90      0.91      0.91        68\n",
            "          9       0.87      0.93      0.90        67\n",
            "\n",
            "avg / total       0.96      0.96      0.96       719\n",
            "\n"
          ],
          "name": "stdout"
        }
      ]
    }
  ]
}