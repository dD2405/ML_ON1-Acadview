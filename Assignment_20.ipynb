{
  "nbformat": 4,
  "nbformat_minor": 0,
  "metadata": {
    "colab": {
      "name": "Untitled12.ipynb",
      "version": "0.3.2",
      "provenance": [],
      "include_colab_link": true
    },
    "kernelspec": {
      "name": "python3",
      "display_name": "Python 3"
    }
  },
  "cells": [
    {
      "cell_type": "markdown",
      "metadata": {
        "id": "view-in-github",
        "colab_type": "text"
      },
      "source": [
        "[View in Colaboratory](https://colab.research.google.com/github/dD2405/ML_ON1-Acadview/blob/master/Assignment_20.ipynb)"
      ]
    },
    {
      "metadata": {
        "id": "xnSEkRne34lf",
        "colab_type": "text"
      },
      "cell_type": "markdown",
      "source": [
        "##What is the value of F?"
      ]
    },
    {
      "metadata": {
        "id": "sbvEHdsN4FL4",
        "colab_type": "text"
      },
      "cell_type": "markdown",
      "source": [
        "###u = a * b\n",
        "###v = a * c\n",
        "###w = b + c\n",
        "###F = u + v - w\n",
        "###F = (a*b) + (a*c) + (b+c)\n",
        "###F = (a+1) *  (b+c)"
      ]
    },
    {
      "metadata": {
        "id": "QzBInU8k3_bm",
        "colab_type": "code",
        "colab": {
          "base_uri": "https://localhost:8080/",
          "height": 34
        },
        "outputId": "03728730-987b-4071-c50d-c0bedd6b01bb"
      },
      "cell_type": "code",
      "source": [
        "print('(a+1)*(b+c)')"
      ],
      "execution_count": 1,
      "outputs": [
        {
          "output_type": "stream",
          "text": [
            "(a+1)*(b+c)\n"
          ],
          "name": "stdout"
        }
      ]
    },
    {
      "metadata": {
        "id": "NM7u9QVw5kYK",
        "colab_type": "text"
      },
      "cell_type": "markdown",
      "source": [
        "##The input values and weights, along with the activation function, are given below. Find the values of x and output (f(x))"
      ]
    },
    {
      "metadata": {
        "id": "8dNuOPQk6A0r",
        "colab_type": "text"
      },
      "cell_type": "markdown",
      "source": [
        "###The input values"
      ]
    },
    {
      "metadata": {
        "id": "UTaC0RFZ59Ub",
        "colab_type": "code",
        "colab": {}
      },
      "cell_type": "code",
      "source": [
        "x1 = -0.06\n",
        "x2 = -2.5\n",
        "x3 = 1.4"
      ],
      "execution_count": 0,
      "outputs": []
    },
    {
      "metadata": {
        "id": "9o48iN-I6O2M",
        "colab_type": "text"
      },
      "cell_type": "markdown",
      "source": [
        "###The Weights"
      ]
    },
    {
      "metadata": {
        "id": "OdzWI7M06PE0",
        "colab_type": "code",
        "colab": {}
      },
      "cell_type": "code",
      "source": [
        "w1=2.7\n",
        "w2=-8.6\n",
        "w3=0.002"
      ],
      "execution_count": 0,
      "outputs": []
    },
    {
      "metadata": {
        "id": "T8wNbUbP6cJU",
        "colab_type": "text"
      },
      "cell_type": "markdown",
      "source": [
        "###Now we calculate x without **bias**"
      ]
    },
    {
      "metadata": {
        "id": "ylzF4FaF6id1",
        "colab_type": "code",
        "colab": {
          "base_uri": "https://localhost:8080/",
          "height": 34
        },
        "outputId": "3aa21745-3e75-452a-d208-a0e7c74a98e4"
      },
      "cell_type": "code",
      "source": [
        "x = (x1*w1) + (x2*w2) + (x3*w3)\n",
        "x"
      ],
      "execution_count": 4,
      "outputs": [
        {
          "output_type": "execute_result",
          "data": {
            "text/plain": [
              "21.3408"
            ]
          },
          "metadata": {
            "tags": []
          },
          "execution_count": 4
        }
      ]
    },
    {
      "metadata": {
        "id": "Lt_LntJ360Yk",
        "colab_type": "text"
      },
      "cell_type": "markdown",
      "source": [
        "###Calculating output f(x) without bias"
      ]
    },
    {
      "metadata": {
        "id": "MDz4C7Kp69K0",
        "colab_type": "code",
        "colab": {}
      },
      "cell_type": "code",
      "source": [
        "import math\n",
        "e = math.exp(-x)"
      ],
      "execution_count": 0,
      "outputs": []
    },
    {
      "metadata": {
        "id": "AuzhluEm7BJz",
        "colab_type": "code",
        "colab": {
          "base_uri": "https://localhost:8080/",
          "height": 34
        },
        "outputId": "cdc0e355-9a7a-46fe-b0d5-6dd96a580870"
      },
      "cell_type": "code",
      "source": [
        "f=1/(1+e)\n",
        "f"
      ],
      "execution_count": 6,
      "outputs": [
        {
          "output_type": "execute_result",
          "data": {
            "text/plain": [
              "0.9999999994607274"
            ]
          },
          "metadata": {
            "tags": []
          },
          "execution_count": 6
        }
      ]
    },
    {
      "metadata": {
        "id": "ceJlMYik7Rya",
        "colab_type": "text"
      },
      "cell_type": "markdown",
      "source": [
        "##If bias is -1.1, then what is the output?"
      ]
    },
    {
      "metadata": {
        "id": "RlJXdzbf7nrc",
        "colab_type": "code",
        "colab": {}
      },
      "cell_type": "code",
      "source": [
        "bias = -1.1"
      ],
      "execution_count": 0,
      "outputs": []
    },
    {
      "metadata": {
        "id": "OpVzS26O7Y1I",
        "colab_type": "text"
      },
      "cell_type": "markdown",
      "source": [
        "###Now we calculate x with bias"
      ]
    },
    {
      "metadata": {
        "id": "wNJcylxa7TiC",
        "colab_type": "code",
        "colab": {
          "base_uri": "https://localhost:8080/",
          "height": 34
        },
        "outputId": "198a7728-164e-4aa0-98f9-c3df852d0ff0"
      },
      "cell_type": "code",
      "source": [
        "bias_x = ((x1*w1) + (x2*w2) + (x3*w3))+bias\n",
        "bias_x"
      ],
      "execution_count": 8,
      "outputs": [
        {
          "output_type": "execute_result",
          "data": {
            "text/plain": [
              "20.2408"
            ]
          },
          "metadata": {
            "tags": []
          },
          "execution_count": 8
        }
      ]
    },
    {
      "metadata": {
        "id": "JP_V6Fpc71U1",
        "colab_type": "text"
      },
      "cell_type": "markdown",
      "source": [
        "###Calculating output f(x) with bias"
      ]
    },
    {
      "metadata": {
        "id": "aP7Hyx-P8GW6",
        "colab_type": "code",
        "colab": {}
      },
      "cell_type": "code",
      "source": [
        "import math\n",
        "bias_e = math.exp(-bias_x)"
      ],
      "execution_count": 0,
      "outputs": []
    },
    {
      "metadata": {
        "id": "RT29Rk0a71hr",
        "colab_type": "code",
        "colab": {
          "base_uri": "https://localhost:8080/",
          "height": 34
        },
        "outputId": "f5229840-3a40-4900-b9c9-4d20a985a811"
      },
      "cell_type": "code",
      "source": [
        "bias_f=1/(1+bias_e)\n",
        "bias_f"
      ],
      "execution_count": 11,
      "outputs": [
        {
          "output_type": "execute_result",
          "data": {
            "text/plain": [
              "0.9999999983799357"
            ]
          },
          "metadata": {
            "tags": []
          },
          "execution_count": 11
        }
      ]
    },
    {
      "metadata": {
        "id": "P4yhbsB58tQ6",
        "colab_type": "text"
      },
      "cell_type": "markdown",
      "source": [
        "##is there any change?\n",
        "\n",
        "####Ans:- There is slight change in the output i.e. f(x) which is negligible. Also there is a drop in the total value of x after adding bias"
      ]
    },
    {
      "metadata": {
        "id": "8lJifO4b8w3w",
        "colab_type": "text"
      },
      "cell_type": "markdown",
      "source": [
        "##Why do we need bias?\n",
        "\n",
        "####The main function of Bias is to provide every node with a trainable constant value (in addition to the normal inputs that the node receives).It also changes the y-intercept in the activation function."
      ]
    }
  ]
}