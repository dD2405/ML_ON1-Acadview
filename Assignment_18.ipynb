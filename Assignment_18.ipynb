{
  "nbformat": 4,
  "nbformat_minor": 0,
  "metadata": {
    "colab": {
      "name": "Untitled10.ipynb",
      "version": "0.3.2",
      "provenance": [],
      "collapsed_sections": [],
      "include_colab_link": true
    },
    "kernelspec": {
      "name": "python3",
      "display_name": "Python 3"
    }
  },
  "cells": [
    {
      "cell_type": "markdown",
      "metadata": {
        "id": "view-in-github",
        "colab_type": "text"
      },
      "source": [
        "[View in Colaboratory](https://colab.research.google.com/github/dD2405/ML_ON1-Acadview/blob/master/Assignment_18.ipynb)"
      ]
    },
    {
      "metadata": {
        "id": "1EZS9k-xvmJJ",
        "colab_type": "text"
      },
      "cell_type": "markdown",
      "source": [
        "##Load the dataset from sklearn. Store the data and target values in variables"
      ]
    },
    {
      "metadata": {
        "id": "A0sR2xzBvn5R",
        "colab_type": "code",
        "colab": {
          "base_uri": "https://localhost:8080/",
          "height": 17
        },
        "outputId": "b1b79c92-cca0-40d4-890d-e1b6f14f4150"
      },
      "cell_type": "code",
      "source": [
        "from sklearn.datasets import load_wine\n",
        "var = load_wine()"
      ],
      "execution_count": 1,
      "outputs": []
    },
    {
      "metadata": {
        "id": "fovOJNj7vesT",
        "colab_type": "code",
        "colab": {
          "base_uri": "https://localhost:8080/",
          "height": 17
        },
        "outputId": "c1b3315e-a4c1-4ff0-9399-f06c40d6fa65"
      },
      "cell_type": "code",
      "source": [
        "x = var.data\n",
        "y = var.target"
      ],
      "execution_count": 2,
      "outputs": []
    },
    {
      "metadata": {
        "id": "xDJI4smu0hBp",
        "colab_type": "text"
      },
      "cell_type": "markdown",
      "source": [
        "##Perform the following ensemble methods and print the accuracy:"
      ]
    },
    {
      "metadata": {
        "id": "v3Sfy76R3ouP",
        "colab_type": "text"
      },
      "cell_type": "markdown",
      "source": [
        "###Bagged Decision Trees"
      ]
    },
    {
      "metadata": {
        "id": "ISl0DQcJ0hQR",
        "colab_type": "code",
        "colab": {
          "base_uri": "https://localhost:8080/",
          "height": 17
        },
        "outputId": "996b33ce-a3e7-42b4-cbbc-1d459370c259"
      },
      "cell_type": "code",
      "source": [
        "from sklearn.ensemble import BaggingClassifier\n",
        "from sklearn import model_selection as ms\n",
        "from sklearn.tree import DecisionTreeClassifier"
      ],
      "execution_count": 3,
      "outputs": []
    },
    {
      "metadata": {
        "id": "Mn1riTFe3-1x",
        "colab_type": "code",
        "colab": {
          "base_uri": "https://localhost:8080/",
          "height": 34
        },
        "outputId": "a98f5719-1477-4c53-926d-48818e738e7d"
      },
      "cell_type": "code",
      "source": [
        "kfold = ms.KFold(n_splits = 10,random_state = 20)\n",
        "\n",
        "cart = DecisionTreeClassifier()\n",
        "\n",
        "model = BaggingClassifier(base_estimator = cart,n_estimators = 50,random_state = 20)\n",
        "\n",
        "acc = ms.cross_val_score(model,x,y,cv = kfold)\n",
        "print(acc.mean())"
      ],
      "execution_count": 4,
      "outputs": [
        {
          "output_type": "stream",
          "text": [
            "0.9326797385620915\n"
          ],
          "name": "stdout"
        }
      ]
    },
    {
      "metadata": {
        "id": "2zjVMuAjI7_D",
        "colab_type": "text"
      },
      "cell_type": "markdown",
      "source": [
        "###Random Forest Classification"
      ]
    },
    {
      "metadata": {
        "id": "op_YynhvI9te",
        "colab_type": "code",
        "colab": {
          "base_uri": "https://localhost:8080/",
          "height": 34
        },
        "outputId": "8a670627-7ebb-4f1f-864a-56acf29033ec"
      },
      "cell_type": "code",
      "source": [
        "from sklearn.ensemble import RandomForestClassifier\n",
        "from sklearn import model_selection\n",
        "\n",
        "kfold = model_selection.KFold(n_splits=10, random_state=55)\n",
        "model = RandomForestClassifier(n_estimators=100, max_features=3)\n",
        "\n",
        "results = model_selection.cross_val_score(model, x, y, cv=kfold)\n",
        "print(results.mean())\n"
      ],
      "execution_count": 37,
      "outputs": [
        {
          "output_type": "stream",
          "text": [
            "0.95\n"
          ],
          "name": "stdout"
        }
      ]
    },
    {
      "metadata": {
        "id": "Zp7_r2ecOXru",
        "colab_type": "text"
      },
      "cell_type": "markdown",
      "source": [
        "###Stochastic Gradient Boosting Classification"
      ]
    },
    {
      "metadata": {
        "id": "1wLjvWnEOX_T",
        "colab_type": "code",
        "colab": {
          "base_uri": "https://localhost:8080/",
          "height": 34
        },
        "outputId": "a4256a0d-1f25-4140-db97-0f964666dd65"
      },
      "cell_type": "code",
      "source": [
        "from sklearn import model_selection as ms1\n",
        "from sklearn.ensemble import GradientBoostingClassifier\n",
        "\n",
        "kfold = ms1.KFold(n_splits = 10,random_state = 20)\n",
        "\n",
        "grad = GradientBoostingClassifier(n_estimators = 100,random_state = 20)\n",
        "\n",
        "acc1 = ms1.cross_val_score(grad,x,y,cv = kfold)\n",
        "print(acc1.mean())"
      ],
      "execution_count": 6,
      "outputs": [
        {
          "output_type": "stream",
          "text": [
            "0.927124183006536\n"
          ],
          "name": "stdout"
        }
      ]
    },
    {
      "metadata": {
        "id": "xR_cgvaCP1oQ",
        "colab_type": "text"
      },
      "cell_type": "markdown",
      "source": [
        "###Voting Ensemble (Decision Tree, Logistic Regression, SVM)"
      ]
    },
    {
      "metadata": {
        "id": "FiXQtpvlP1Cw",
        "colab_type": "code",
        "colab": {
          "base_uri": "https://localhost:8080/",
          "height": 17
        },
        "outputId": "6575b60c-6837-44e7-dccf-ce8684b7bb93"
      },
      "cell_type": "code",
      "source": [
        "from sklearn import model_selection as ms2\n",
        "\n",
        "from sklearn.tree import DecisionTreeClassifier\n",
        "from sklearn.linear_model import LogisticRegression\n",
        "from sklearn.svm import SVC\n",
        "\n",
        "from sklearn.ensemble import VotingClassifier"
      ],
      "execution_count": 27,
      "outputs": []
    },
    {
      "metadata": {
        "id": "FMheFDmrRKV9",
        "colab_type": "code",
        "colab": {
          "base_uri": "https://localhost:8080/",
          "height": 17
        },
        "outputId": "be3b1ae4-4c7a-4ba9-9682-211aac5e134f"
      },
      "cell_type": "code",
      "source": [
        "estimators = []\n",
        "kfold = ms1.KFold(n_splits = 10,random_state = 20)"
      ],
      "execution_count": 28,
      "outputs": []
    },
    {
      "metadata": {
        "id": "DBUhW4pNRpEc",
        "colab_type": "code",
        "colab": {
          "base_uri": "https://localhost:8080/",
          "height": 17
        },
        "outputId": "9ed00e3b-77f8-4634-971c-955cebc62881"
      },
      "cell_type": "code",
      "source": [
        "model1 = LogisticRegression()\n",
        "estimators.append(model1)\n",
        "\n",
        "model2 = DecisionTreeClassifier()\n",
        "estimators.append(model2)\n",
        "\n",
        "model3 = SVC()\n",
        "estimators.append(model3)\n"
      ],
      "execution_count": 32,
      "outputs": []
    },
    {
      "metadata": {
        "id": "cgeQ6SUaSrhA",
        "colab_type": "code",
        "colab": {
          "base_uri": "https://localhost:8080/",
          "height": 34
        },
        "outputId": "0fb38fcc-2d10-4efa-a4bb-1518f716eb41"
      },
      "cell_type": "code",
      "source": [
        "import warnings\n",
        "warnings.filterwarnings(\"ignore\", category=DeprecationWarning)\n",
        "\n",
        "\n",
        "ens = VotingClassifier(estimators = [(' model1', model1),('model2', model2),('model3', model3)])\n",
        "\n",
        "acc2 = ms2.cross_val_score(ens,x,y,cv = kfold)\n",
        "acc2.mean()"
      ],
      "execution_count": 39,
      "outputs": [
        {
          "output_type": "execute_result",
          "data": {
            "text/plain": [
              "0.8656862745098041"
            ]
          },
          "metadata": {
            "tags": []
          },
          "execution_count": 39
        }
      ]
    }
  ]
}