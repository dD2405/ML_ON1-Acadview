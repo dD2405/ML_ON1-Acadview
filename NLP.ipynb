{
  "nbformat": 4,
  "nbformat_minor": 0,
  "metadata": {
    "colab": {
      "name": "NLP.ipynb",
      "version": "0.3.2",
      "provenance": [],
      "collapsed_sections": [],
      "include_colab_link": true
    },
    "kernelspec": {
      "name": "python3",
      "display_name": "Python 3"
    }
  },
  "cells": [
    {
      "cell_type": "markdown",
      "metadata": {
        "id": "view-in-github",
        "colab_type": "text"
      },
      "source": [
        "<a href=\"https://colab.research.google.com/github/dD2405/ML_ON1-Acadview/blob/master/NLP.ipynb\" target=\"_parent\"><img src=\"https://colab.research.google.com/assets/colab-badge.svg\" alt=\"Open In Colab\"/></a>"
      ]
    },
    {
      "metadata": {
        "id": "Gms9BtknnsRA",
        "colab_type": "text"
      },
      "cell_type": "markdown",
      "source": [
        "# Importing NLTK "
      ]
    },
    {
      "metadata": {
        "id": "y4SgU2LGL_1b",
        "colab_type": "code",
        "outputId": "d18fd8c1-2d0e-42e8-9999-2c5446b54b00",
        "colab": {
          "base_uri": "https://localhost:8080/",
          "height": 68
        }
      },
      "cell_type": "code",
      "source": [
        "import nltk\n",
        "nltk.download('wordnet')"
      ],
      "execution_count": 3,
      "outputs": [
        {
          "output_type": "stream",
          "text": [
            "[nltk_data] Downloading package wordnet to /root/nltk_data...\n",
            "[nltk_data]   Unzipping corpora/wordnet.zip.\n"
          ],
          "name": "stdout"
        },
        {
          "output_type": "execute_result",
          "data": {
            "text/plain": [
              "True"
            ]
          },
          "metadata": {
            "tags": []
          },
          "execution_count": 3
        }
      ]
    },
    {
      "metadata": {
        "id": "OJSUwAMulozF",
        "colab_type": "text"
      },
      "cell_type": "markdown",
      "source": [
        "## Sentence Tokenization"
      ]
    },
    {
      "metadata": {
        "id": "rQF2KSX4nlsg",
        "colab_type": "code",
        "outputId": "f2fb0559-0048-4816-aa34-554cfa770e66",
        "colab": {
          "base_uri": "https://localhost:8080/",
          "height": 54
        }
      },
      "cell_type": "code",
      "source": [
        "text = \"Backgammon is one of the oldest known board games. Its history can be traced back nearly 5,000 years to archeological discoveries in the Middle East.It is a two player game where each player has fifteen checkers which move between twenty-four points according to the roll of two dice.\"\n",
        "sentences = nltk.sent_tokenize(text)\n",
        "print(sentences)"
      ],
      "execution_count": 4,
      "outputs": [
        {
          "output_type": "stream",
          "text": [
            "['Backgammon is one of the oldest known board games.', 'Its history can be traced back nearly 5,000 years to archeological discoveries in the Middle East.It is a two player game where each player has fifteen checkers which move between twenty-four points according to the roll of two dice.']\n"
          ],
          "name": "stdout"
        }
      ]
    },
    {
      "metadata": {
        "id": "Xuz2EYS5neT4",
        "colab_type": "text"
      },
      "cell_type": "markdown",
      "source": [
        "## Word Tokenization"
      ]
    },
    {
      "metadata": {
        "id": "dObfcOcel1U4",
        "colab_type": "code",
        "outputId": "7f24e451-46e1-4c4a-abdc-55b5a081b848",
        "colab": {
          "base_uri": "https://localhost:8080/",
          "height": 54
        }
      },
      "cell_type": "code",
      "source": [
        "words = nltk.word_tokenize(text)\n",
        "print(words)  \n",
        "  "
      ],
      "execution_count": 5,
      "outputs": [
        {
          "output_type": "stream",
          "text": [
            "['Backgammon', 'is', 'one', 'of', 'the', 'oldest', 'known', 'board', 'games', '.', 'Its', 'history', 'can', 'be', 'traced', 'back', 'nearly', '5,000', 'years', 'to', 'archeological', 'discoveries', 'in', 'the', 'Middle', 'East.It', 'is', 'a', 'two', 'player', 'game', 'where', 'each', 'player', 'has', 'fifteen', 'checkers', 'which', 'move', 'between', 'twenty-four', 'points', 'according', 'to', 'the', 'roll', 'of', 'two', 'dice', '.']\n"
          ],
          "name": "stdout"
        }
      ]
    },
    {
      "metadata": {
        "id": "EIWOm5Sxn2N2",
        "colab_type": "text"
      },
      "cell_type": "markdown",
      "source": [
        "## Text Lemmatization and Stemming"
      ]
    },
    {
      "metadata": {
        "id": "RL8eJN8bpKS5",
        "colab_type": "code",
        "outputId": "0f4b9993-4a20-4ff3-8fbc-f023bc80ca9a",
        "colab": {
          "base_uri": "https://localhost:8080/",
          "height": 221
        }
      },
      "cell_type": "code",
      "source": [
        "from nltk import PorterStemmer,WordNetLemmatizer\n",
        "\n",
        "ps = PorterStemmer()\n",
        "wnl = WordNetLemmatizer()\n",
        "\n",
        "def compare(ps,wnl,word):\n",
        "  print('Stemmer:',ps.stem(word))\n",
        "  print('Lemmatizer:',wnl.lemmatize(word))\n",
        "  print('----------------------------------------------------------------------------------------------------------------')\n",
        "  \n",
        "  \n",
        "li = ['Seen','Playing','better','worse']\n",
        "for i in li:\n",
        "  compare(ps,wnl,i)"
      ],
      "execution_count": 6,
      "outputs": [
        {
          "output_type": "stream",
          "text": [
            "Stemmer: seen\n",
            "Lemmatizer: Seen\n",
            "----------------------------------------------------------------------------------------------------------------\n",
            "Stemmer: play\n",
            "Lemmatizer: Playing\n",
            "----------------------------------------------------------------------------------------------------------------\n",
            "Stemmer: better\n",
            "Lemmatizer: better\n",
            "----------------------------------------------------------------------------------------------------------------\n",
            "Stemmer: wors\n",
            "Lemmatizer: worse\n",
            "----------------------------------------------------------------------------------------------------------------\n"
          ],
          "name": "stdout"
        }
      ]
    },
    {
      "metadata": {
        "id": "Xy5vrufWux-h",
        "colab_type": "text"
      },
      "cell_type": "markdown",
      "source": [
        "## Stop Words"
      ]
    },
    {
      "metadata": {
        "id": "kbtU6XB3uyVj",
        "colab_type": "code",
        "outputId": "a4ccab9e-c290-4c5c-8e4e-1d32bb2cf5c2",
        "colab": {
          "base_uri": "https://localhost:8080/",
          "height": 54
        }
      },
      "cell_type": "code",
      "source": [
        "from nltk.corpus import stopwords\n",
        "sw = stopwords.words('english')\n",
        "print(sw)"
      ],
      "execution_count": 7,
      "outputs": [
        {
          "output_type": "stream",
          "text": [
            "['i', 'me', 'my', 'myself', 'we', 'our', 'ours', 'ourselves', 'you', \"you're\", \"you've\", \"you'll\", \"you'd\", 'your', 'yours', 'yourself', 'yourselves', 'he', 'him', 'his', 'himself', 'she', \"she's\", 'her', 'hers', 'herself', 'it', \"it's\", 'its', 'itself', 'they', 'them', 'their', 'theirs', 'themselves', 'what', 'which', 'who', 'whom', 'this', 'that', \"that'll\", 'these', 'those', 'am', 'is', 'are', 'was', 'were', 'be', 'been', 'being', 'have', 'has', 'had', 'having', 'do', 'does', 'did', 'doing', 'a', 'an', 'the', 'and', 'but', 'if', 'or', 'because', 'as', 'until', 'while', 'of', 'at', 'by', 'for', 'with', 'about', 'against', 'between', 'into', 'through', 'during', 'before', 'after', 'above', 'below', 'to', 'from', 'up', 'down', 'in', 'out', 'on', 'off', 'over', 'under', 'again', 'further', 'then', 'once', 'here', 'there', 'when', 'where', 'why', 'how', 'all', 'any', 'both', 'each', 'few', 'more', 'most', 'other', 'some', 'such', 'no', 'nor', 'not', 'only', 'own', 'same', 'so', 'than', 'too', 'very', 's', 't', 'can', 'will', 'just', 'don', \"don't\", 'should', \"should've\", 'now', 'd', 'll', 'm', 'o', 're', 've', 'y', 'ain', 'aren', \"aren't\", 'couldn', \"couldn't\", 'didn', \"didn't\", 'doesn', \"doesn't\", 'hadn', \"hadn't\", 'hasn', \"hasn't\", 'haven', \"haven't\", 'isn', \"isn't\", 'ma', 'mightn', \"mightn't\", 'mustn', \"mustn't\", 'needn', \"needn't\", 'shan', \"shan't\", 'shouldn', \"shouldn't\", 'wasn', \"wasn't\", 'weren', \"weren't\", 'won', \"won't\", 'wouldn', \"wouldn't\"]\n"
          ],
          "name": "stdout"
        }
      ]
    },
    {
      "metadata": {
        "id": "9UGCFbkxMvWx",
        "colab_type": "code",
        "outputId": "82fc7252-444e-4ea9-bc10-d9b902f3bc81",
        "colab": {
          "base_uri": "https://localhost:8080/",
          "height": 34
        }
      },
      "cell_type": "code",
      "source": [
        "stop_words = set(stopwords.words(\"english\"))\n",
        "sentence = \"Backgammon is one of the oldest known board games.\"\n",
        "\n",
        "words = nltk.word_tokenize(sentence)\n",
        "without_stop_words = [word for word in words if not word in stop_words]\n",
        "print(without_stop_words)"
      ],
      "execution_count": 8,
      "outputs": [
        {
          "output_type": "stream",
          "text": [
            "['Backgammon', 'one', 'oldest', 'known', 'board', 'games', '.']\n"
          ],
          "name": "stdout"
        }
      ]
    },
    {
      "metadata": {
        "id": "MNBPjW5HN385",
        "colab_type": "text"
      },
      "cell_type": "markdown",
      "source": [
        "## Regular Expressions(RegEx)"
      ]
    },
    {
      "metadata": {
        "id": "7qoIH_F3OA_Q",
        "colab_type": "code",
        "outputId": "ca511160-86dc-4395-8b09-1f3347d663bb",
        "colab": {
          "base_uri": "https://localhost:8080/",
          "height": 34
        }
      },
      "cell_type": "code",
      "source": [
        "import re\n",
        "sentence = \"The development of snowboarding was inspired by skateboarding, sledding, surfing and skiing.\"\n",
        "pattern = r\"[^\\w]\"\n",
        "print(re.sub(pattern, \" \", sentence))"
      ],
      "execution_count": 9,
      "outputs": [
        {
          "output_type": "stream",
          "text": [
            "The development of snowboarding was inspired by skateboarding  sledding  surfing and skiing \n"
          ],
          "name": "stdout"
        }
      ]
    },
    {
      "metadata": {
        "id": "yhiFFqFdqFMM",
        "colab_type": "text"
      },
      "cell_type": "markdown",
      "source": [
        "## Bag of Words"
      ]
    },
    {
      "metadata": {
        "id": "bk7fCCF2kZx7",
        "colab_type": "code",
        "colab": {}
      },
      "cell_type": "code",
      "source": [
        "documents = [\"I like this movie, it's funny very funny.\", 'I hate this movie.', 'This was awesome! I like it.', 'Nice one. I love it.']"
      ],
      "execution_count": 0,
      "outputs": []
    },
    {
      "metadata": {
        "id": "5ngaG_6CxFX1",
        "colab_type": "text"
      },
      "cell_type": "markdown",
      "source": [
        "#### The task here is to convert each raw text into a vector of numbers. After that, we can use these vectors as input for a machine learning model. The simplest scoring method is to mark the presence of words with 1 for present and 0 for absence."
      ]
    },
    {
      "metadata": {
        "id": "VxJsGGcvqQBU",
        "colab_type": "code",
        "outputId": "eb9a13d1-02b2-4255-c786-e88f078cb21a",
        "colab": {
          "base_uri": "https://localhost:8080/",
          "height": 173
        }
      },
      "cell_type": "code",
      "source": [
        "# Importing the necessary libraries\n",
        "from sklearn.feature_extraction.text import CountVectorizer\n",
        "import pandas as pd\n",
        "\n",
        "# Design the Vocabulary\n",
        "# The default token pattern removes tokens of a single character. \n",
        "# That's why we don't have the \"I\" and \"s\" tokens in the output.\n",
        "cv = CountVectorizer()\n",
        "\n",
        "# Create the bag-of-words model\n",
        "bag_of_words = cv.fit_transform(documents)\n",
        "\n",
        "feature_names = cv.get_feature_names()\n",
        "pd.DataFrame(bag_of_words.toarray(), columns = feature_names)"
      ],
      "execution_count": 22,
      "outputs": [
        {
          "output_type": "execute_result",
          "data": {
            "text/html": [
              "<div>\n",
              "<style scoped>\n",
              "    .dataframe tbody tr th:only-of-type {\n",
              "        vertical-align: middle;\n",
              "    }\n",
              "\n",
              "    .dataframe tbody tr th {\n",
              "        vertical-align: top;\n",
              "    }\n",
              "\n",
              "    .dataframe thead th {\n",
              "        text-align: right;\n",
              "    }\n",
              "</style>\n",
              "<table border=\"1\" class=\"dataframe\">\n",
              "  <thead>\n",
              "    <tr style=\"text-align: right;\">\n",
              "      <th></th>\n",
              "      <th>awesome</th>\n",
              "      <th>funny</th>\n",
              "      <th>hate</th>\n",
              "      <th>it</th>\n",
              "      <th>like</th>\n",
              "      <th>love</th>\n",
              "      <th>movie</th>\n",
              "      <th>nice</th>\n",
              "      <th>one</th>\n",
              "      <th>this</th>\n",
              "      <th>very</th>\n",
              "      <th>was</th>\n",
              "    </tr>\n",
              "  </thead>\n",
              "  <tbody>\n",
              "    <tr>\n",
              "      <th>0</th>\n",
              "      <td>0</td>\n",
              "      <td>2</td>\n",
              "      <td>0</td>\n",
              "      <td>1</td>\n",
              "      <td>1</td>\n",
              "      <td>0</td>\n",
              "      <td>1</td>\n",
              "      <td>0</td>\n",
              "      <td>0</td>\n",
              "      <td>1</td>\n",
              "      <td>1</td>\n",
              "      <td>0</td>\n",
              "    </tr>\n",
              "    <tr>\n",
              "      <th>1</th>\n",
              "      <td>0</td>\n",
              "      <td>0</td>\n",
              "      <td>1</td>\n",
              "      <td>0</td>\n",
              "      <td>0</td>\n",
              "      <td>0</td>\n",
              "      <td>1</td>\n",
              "      <td>0</td>\n",
              "      <td>0</td>\n",
              "      <td>1</td>\n",
              "      <td>0</td>\n",
              "      <td>0</td>\n",
              "    </tr>\n",
              "    <tr>\n",
              "      <th>2</th>\n",
              "      <td>1</td>\n",
              "      <td>0</td>\n",
              "      <td>0</td>\n",
              "      <td>1</td>\n",
              "      <td>1</td>\n",
              "      <td>0</td>\n",
              "      <td>0</td>\n",
              "      <td>0</td>\n",
              "      <td>0</td>\n",
              "      <td>1</td>\n",
              "      <td>0</td>\n",
              "      <td>1</td>\n",
              "    </tr>\n",
              "    <tr>\n",
              "      <th>3</th>\n",
              "      <td>0</td>\n",
              "      <td>0</td>\n",
              "      <td>0</td>\n",
              "      <td>1</td>\n",
              "      <td>0</td>\n",
              "      <td>1</td>\n",
              "      <td>0</td>\n",
              "      <td>1</td>\n",
              "      <td>1</td>\n",
              "      <td>0</td>\n",
              "      <td>0</td>\n",
              "      <td>0</td>\n",
              "    </tr>\n",
              "  </tbody>\n",
              "</table>\n",
              "</div>"
            ],
            "text/plain": [
              "   awesome  funny  hate  it  like  love  movie  nice  one  this  very  was\n",
              "0        0      2     0   1     1     0      1     0    0     1     1    0\n",
              "1        0      0     1   0     0     0      1     0    0     1     0    0\n",
              "2        1      0     0   1     1     0      0     0    0     1     0    1\n",
              "3        0      0     0   1     0     1      0     1    1     0     0    0"
            ]
          },
          "metadata": {
            "tags": []
          },
          "execution_count": 22
        }
      ]
    },
    {
      "metadata": {
        "id": "0XHGqz2TVJj3",
        "colab_type": "text"
      },
      "cell_type": "markdown",
      "source": [
        "## TF-IDF"
      ]
    },
    {
      "metadata": {
        "id": "VuXxA7qaVDaJ",
        "colab_type": "text"
      },
      "cell_type": "markdown",
      "source": [
        "![tf](https://cdn-images-1.medium.com/max/800/1*V9ac4hLVyms79jl65Ym_Bw.png)"
      ]
    },
    {
      "metadata": {
        "id": "SUeScurjeWfg",
        "colab_type": "code",
        "colab": {}
      },
      "cell_type": "code",
      "source": [
        "document = [\"I like this movie, it's really very funny\" ,\"I hate this movie,I really hate it\"]"
      ],
      "execution_count": 0,
      "outputs": []
    },
    {
      "metadata": {
        "id": "aXI2n7jjVISQ",
        "colab_type": "code",
        "colab": {
          "base_uri": "https://localhost:8080/",
          "height": 111
        },
        "outputId": "db9a1f0c-18b5-4a53-a68a-509e0aab9b51"
      },
      "cell_type": "code",
      "source": [
        "from sklearn.feature_extraction.text import TfidfVectorizer\n",
        "\n",
        "tf = TfidfVectorizer()\n",
        "values = tf.fit_transform(document)\n",
        "\n",
        "feature_names = tf.get_feature_names()\n",
        "pd.DataFrame(values.toarray(),columns=feature_names)"
      ],
      "execution_count": 39,
      "outputs": [
        {
          "output_type": "execute_result",
          "data": {
            "text/html": [
              "<div>\n",
              "<style scoped>\n",
              "    .dataframe tbody tr th:only-of-type {\n",
              "        vertical-align: middle;\n",
              "    }\n",
              "\n",
              "    .dataframe tbody tr th {\n",
              "        vertical-align: top;\n",
              "    }\n",
              "\n",
              "    .dataframe thead th {\n",
              "        text-align: right;\n",
              "    }\n",
              "</style>\n",
              "<table border=\"1\" class=\"dataframe\">\n",
              "  <thead>\n",
              "    <tr style=\"text-align: right;\">\n",
              "      <th></th>\n",
              "      <th>funny</th>\n",
              "      <th>hate</th>\n",
              "      <th>it</th>\n",
              "      <th>like</th>\n",
              "      <th>movie</th>\n",
              "      <th>really</th>\n",
              "      <th>this</th>\n",
              "      <th>very</th>\n",
              "    </tr>\n",
              "  </thead>\n",
              "  <tbody>\n",
              "    <tr>\n",
              "      <th>0</th>\n",
              "      <td>0.446101</td>\n",
              "      <td>0.000000</td>\n",
              "      <td>0.317404</td>\n",
              "      <td>0.446101</td>\n",
              "      <td>0.317404</td>\n",
              "      <td>0.317404</td>\n",
              "      <td>0.317404</td>\n",
              "      <td>0.446101</td>\n",
              "    </tr>\n",
              "    <tr>\n",
              "      <th>1</th>\n",
              "      <td>0.000000</td>\n",
              "      <td>0.814802</td>\n",
              "      <td>0.289869</td>\n",
              "      <td>0.000000</td>\n",
              "      <td>0.289869</td>\n",
              "      <td>0.289869</td>\n",
              "      <td>0.289869</td>\n",
              "      <td>0.000000</td>\n",
              "    </tr>\n",
              "  </tbody>\n",
              "</table>\n",
              "</div>"
            ],
            "text/plain": [
              "      funny      hate        it      like     movie    really      this  \\\n",
              "0  0.446101  0.000000  0.317404  0.446101  0.317404  0.317404  0.317404   \n",
              "1  0.000000  0.814802  0.289869  0.000000  0.289869  0.289869  0.289869   \n",
              "\n",
              "       very  \n",
              "0  0.446101  \n",
              "1  0.000000  "
            ]
          },
          "metadata": {
            "tags": []
          },
          "execution_count": 39
        }
      ]
    }
  ]
}