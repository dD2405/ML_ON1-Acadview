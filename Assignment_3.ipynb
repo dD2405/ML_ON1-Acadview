{
  "nbformat": 4,
  "nbformat_minor": 0,
  "metadata": {
    "colab": {
      "name": "Assignment_3.ipynb",
      "version": "0.3.2",
      "provenance": []
    },
    "kernelspec": {
      "name": "python3",
      "display_name": "Python 3"
    }
  },
  "cells": [
    {
      "cell_type": "markdown",
      "metadata": {
        "id": "view-in-github",
        "colab_type": "text"
      },
      "source": [
        "[View in Colaboratory](https://colab.research.google.com/github/dD2405/ML_ON1-Acadview/blob/master/Assignment_3.ipynb)"
      ]
    },
    {
      "metadata": {
        "id": "_BgkVAzRgxPz",
        "colab_type": "code",
        "colab": {
          "base_uri": "https://localhost:8080/",
          "height": 34
        },
        "outputId": "a0dc703b-9167-4e23-d806-757b5ec9962e"
      },
      "cell_type": "code",
      "source": [
        "#Question 1\n",
        "\n",
        "#here p(A) is a , p(B) is b and p(A|B) is c\n",
        "\n",
        "def prob(a,b,c):\n",
        "  d = (c*b)/a\n",
        "  return d \n",
        "\n",
        "prob(11/36,6/36,2/36)\n"
      ],
      "execution_count": 3,
      "outputs": [
        {
          "output_type": "execute_result",
          "data": {
            "text/plain": [
              "0.0303030303030303"
            ]
          },
          "metadata": {
            "tags": []
          },
          "execution_count": 3
        }
      ]
    },
    {
      "metadata": {
        "id": "I24UvW6ejZaw",
        "colab_type": "code",
        "colab": {
          "base_uri": "https://localhost:8080/",
          "height": 34
        },
        "outputId": "026f712d-f30a-4ca2-9dd8-5fc6508ddbd3"
      },
      "cell_type": "code",
      "source": [
        "#Question 2 \n",
        "\n",
        "print(7/12)\n"
      ],
      "execution_count": 4,
      "outputs": [
        {
          "output_type": "stream",
          "text": [
            "0.5833333333333334\n"
          ],
          "name": "stdout"
        }
      ]
    },
    {
      "metadata": {
        "id": "xsBtEuHLnYqk",
        "colab_type": "code",
        "colab": {
          "base_uri": "https://localhost:8080/",
          "height": 34
        },
        "outputId": "8f22e63f-9e8a-49ce-f338-bd0f89a8ca36"
      },
      "cell_type": "code",
      "source": [
        "#Question 3\n",
        "\n",
        "print(2/7)"
      ],
      "execution_count": 5,
      "outputs": [
        {
          "output_type": "stream",
          "text": [
            "0.2857142857142857\n"
          ],
          "name": "stdout"
        }
      ]
    }
  ]
}