{
  "nbformat": 4,
  "nbformat_minor": 0,
  "metadata": {
    "colab": {
      "name": "Untitled8.ipynb",
      "version": "0.3.2",
      "provenance": [],
      "include_colab_link": true
    },
    "kernelspec": {
      "name": "python3",
      "display_name": "Python 3"
    }
  },
  "cells": [
    {
      "cell_type": "markdown",
      "metadata": {
        "id": "view-in-github",
        "colab_type": "text"
      },
      "source": [
        "[View in Colaboratory](https://colab.research.google.com/github/dD2405/ML_ON1-Acadview/blob/master/Assignment_15.ipynb)"
      ]
    },
    {
      "metadata": {
        "id": "6KXY0bnhShZd",
        "colab_type": "text"
      },
      "cell_type": "markdown",
      "source": [
        "#Load the dataset from sklearn"
      ]
    },
    {
      "metadata": {
        "id": "0e2mrCWASj7w",
        "colab_type": "code",
        "colab": {}
      },
      "cell_type": "code",
      "source": [
        "from sklearn.datasets import load_digits\n",
        "import matplotlib.pyplot as plt\n",
        "\n",
        "var = load_digits()"
      ],
      "execution_count": 0,
      "outputs": []
    },
    {
      "metadata": {
        "id": "ko8MoaAdXlzw",
        "colab_type": "code",
        "colab": {
          "base_uri": "https://localhost:8080/",
          "height": 136
        },
        "outputId": "0fc27810-dc0f-46b7-aae8-2670c5e8de03"
      },
      "cell_type": "code",
      "source": [
        "x = var.data\n",
        "x"
      ],
      "execution_count": 4,
      "outputs": [
        {
          "output_type": "execute_result",
          "data": {
            "text/plain": [
              "array([[ 0.,  0.,  5., ...,  0.,  0.,  0.],\n",
              "       [ 0.,  0.,  0., ..., 10.,  0.,  0.],\n",
              "       [ 0.,  0.,  0., ..., 16.,  9.,  0.],\n",
              "       ...,\n",
              "       [ 0.,  0.,  1., ...,  6.,  0.,  0.],\n",
              "       [ 0.,  0.,  2., ..., 12.,  0.,  0.],\n",
              "       [ 0.,  0., 10., ..., 12.,  1.,  0.]])"
            ]
          },
          "metadata": {
            "tags": []
          },
          "execution_count": 4
        }
      ]
    },
    {
      "metadata": {
        "id": "z9IiGKNgXq_8",
        "colab_type": "code",
        "colab": {
          "base_uri": "https://localhost:8080/",
          "height": 34
        },
        "outputId": "52ea280a-48fa-44f1-9288-5658c1710d7f"
      },
      "cell_type": "code",
      "source": [
        "y = var.target\n",
        "y"
      ],
      "execution_count": 5,
      "outputs": [
        {
          "output_type": "execute_result",
          "data": {
            "text/plain": [
              "array([0, 1, 2, ..., 8, 9, 8])"
            ]
          },
          "metadata": {
            "tags": []
          },
          "execution_count": 5
        }
      ]
    },
    {
      "metadata": {
        "id": "G7vQFm33aQTp",
        "colab_type": "text"
      },
      "cell_type": "markdown",
      "source": [
        "#Split the dataset into training and testing sets using train_test_split()"
      ]
    },
    {
      "metadata": {
        "id": "LZvbbCPPaF4r",
        "colab_type": "code",
        "colab": {}
      },
      "cell_type": "code",
      "source": [
        "from sklearn.cross_validation import train_test_split\n",
        "\n",
        "x_train , x_test , y_train , y_test = train_test_split(x, y , test_size = 0.40,random_state =355)"
      ],
      "execution_count": 0,
      "outputs": []
    },
    {
      "metadata": {
        "id": "kkbjmggriGZA",
        "colab_type": "code",
        "colab": {}
      },
      "cell_type": "code",
      "source": [
        "from sklearn.metrics import confusion_matrix,classification_report"
      ],
      "execution_count": 0,
      "outputs": []
    },
    {
      "metadata": {
        "id": "7vHIDu-1avDp",
        "colab_type": "text"
      },
      "cell_type": "markdown",
      "source": [
        "#Use SVM with kernels"
      ]
    },
    {
      "metadata": {
        "id": "B-dI8O0GdmsI",
        "colab_type": "code",
        "colab": {}
      },
      "cell_type": "code",
      "source": [
        " from sklearn.svm import SVC"
      ],
      "execution_count": 0,
      "outputs": []
    },
    {
      "metadata": {
        "id": "LM2VwhaKb0j9",
        "colab_type": "text"
      },
      "cell_type": "markdown",
      "source": [
        "##a. Linear"
      ]
    },
    {
      "metadata": {
        "id": "g15aoDpgdljI",
        "colab_type": "code",
        "colab": {
          "base_uri": "https://localhost:8080/",
          "height": 85
        },
        "outputId": "2a3ff10f-dc83-4125-88c6-8eff0eebe7fb"
      },
      "cell_type": "code",
      "source": [
        "lin = SVC(kernel='linear')\n",
        "lin.fit(x_train,y_train)\n",
        "\n"
      ],
      "execution_count": 62,
      "outputs": [
        {
          "output_type": "execute_result",
          "data": {
            "text/plain": [
              "SVC(C=1.0, cache_size=200, class_weight=None, coef0=0.0,\n",
              "  decision_function_shape='ovr', degree=3, gamma='auto', kernel='linear',\n",
              "  max_iter=-1, probability=False, random_state=None, shrinking=True,\n",
              "  tol=0.001, verbose=False)"
            ]
          },
          "metadata": {
            "tags": []
          },
          "execution_count": 62
        }
      ]
    },
    {
      "metadata": {
        "id": "_JqNbJZPhzZ2",
        "colab_type": "code",
        "colab": {}
      },
      "cell_type": "code",
      "source": [
        "y_pred = lin.predict(x_test)"
      ],
      "execution_count": 0,
      "outputs": []
    },
    {
      "metadata": {
        "id": "6O0FI0XWb7Hl",
        "colab_type": "text"
      },
      "cell_type": "markdown",
      "source": [
        "###i. Confusion Matrix"
      ]
    },
    {
      "metadata": {
        "id": "u-v3zex6bbfq",
        "colab_type": "code",
        "colab": {
          "base_uri": "https://localhost:8080/",
          "height": 187
        },
        "outputId": "abca8e67-9220-401d-e2a7-68b04727c096"
      },
      "cell_type": "code",
      "source": [
        "confusion_matrix(y_test, y_pred)"
      ],
      "execution_count": 64,
      "outputs": [
        {
          "output_type": "execute_result",
          "data": {
            "text/plain": [
              "array([[72,  0,  0,  0,  0,  0,  0,  0,  0,  0],\n",
              "       [ 0, 61,  0,  0,  0,  0,  0,  0,  1,  0],\n",
              "       [ 0,  0, 70,  0,  0,  0,  0,  0,  0,  0],\n",
              "       [ 0,  0,  0, 68,  0,  0,  0,  0,  1,  0],\n",
              "       [ 0,  0,  0,  0, 72,  0,  0,  0,  0,  0],\n",
              "       [ 0,  0,  0,  0,  0, 72,  0,  0,  0,  3],\n",
              "       [ 1,  0,  0,  0,  0,  0, 76,  0,  0,  0],\n",
              "       [ 0,  0,  0,  1,  0,  0,  0, 75,  0,  1],\n",
              "       [ 0,  3,  0,  0,  0,  0,  0,  1, 61,  3],\n",
              "       [ 0,  0,  0,  2,  0,  0,  0,  0,  0, 75]])"
            ]
          },
          "metadata": {
            "tags": []
          },
          "execution_count": 64
        }
      ]
    },
    {
      "metadata": {
        "id": "6PDhIilWiRUG",
        "colab_type": "text"
      },
      "cell_type": "markdown",
      "source": [
        "###ii. Classification Report"
      ]
    },
    {
      "metadata": {
        "id": "C7KLYL0riWz7",
        "colab_type": "code",
        "colab": {
          "base_uri": "https://localhost:8080/",
          "height": 272
        },
        "outputId": "c6b5eebe-bf84-45f5-b49c-d5f39c0ab3a1"
      },
      "cell_type": "code",
      "source": [
        "report = classification_report(y_test,y_pred)\n",
        "print(report)"
      ],
      "execution_count": 65,
      "outputs": [
        {
          "output_type": "stream",
          "text": [
            "             precision    recall  f1-score   support\n",
            "\n",
            "          0       0.99      1.00      0.99        72\n",
            "          1       0.95      0.98      0.97        62\n",
            "          2       1.00      1.00      1.00        70\n",
            "          3       0.96      0.99      0.97        69\n",
            "          4       1.00      1.00      1.00        72\n",
            "          5       1.00      0.96      0.98        75\n",
            "          6       1.00      0.99      0.99        77\n",
            "          7       0.99      0.97      0.98        77\n",
            "          8       0.97      0.90      0.93        68\n",
            "          9       0.91      0.97      0.94        77\n",
            "\n",
            "avg / total       0.98      0.98      0.98       719\n",
            "\n"
          ],
          "name": "stdout"
        }
      ]
    },
    {
      "metadata": {
        "id": "i_LWcXfEip0e",
        "colab_type": "text"
      },
      "cell_type": "markdown",
      "source": [
        "##b. Poly"
      ]
    },
    {
      "metadata": {
        "id": "Iwu6txyeitwZ",
        "colab_type": "code",
        "colab": {
          "base_uri": "https://localhost:8080/",
          "height": 85
        },
        "outputId": "b26f124f-7077-44da-aba3-ab4235d46072"
      },
      "cell_type": "code",
      "source": [
        "pol = SVC(kernel='poly')\n",
        "pol.fit(x_train,y_train)\n",
        "\n"
      ],
      "execution_count": 66,
      "outputs": [
        {
          "output_type": "execute_result",
          "data": {
            "text/plain": [
              "SVC(C=1.0, cache_size=200, class_weight=None, coef0=0.0,\n",
              "  decision_function_shape='ovr', degree=3, gamma='auto', kernel='poly',\n",
              "  max_iter=-1, probability=False, random_state=None, shrinking=True,\n",
              "  tol=0.001, verbose=False)"
            ]
          },
          "metadata": {
            "tags": []
          },
          "execution_count": 66
        }
      ]
    },
    {
      "metadata": {
        "id": "rxbHxefqjAab",
        "colab_type": "code",
        "colab": {}
      },
      "cell_type": "code",
      "source": [
        "y_pred1 = pol.predict(x_test)"
      ],
      "execution_count": 0,
      "outputs": []
    },
    {
      "metadata": {
        "id": "ATxfnvySjP2S",
        "colab_type": "text"
      },
      "cell_type": "markdown",
      "source": [
        "###i. Confusion Matrix"
      ]
    },
    {
      "metadata": {
        "id": "QtxlhmfjjMYF",
        "colab_type": "code",
        "colab": {
          "base_uri": "https://localhost:8080/",
          "height": 187
        },
        "outputId": "1f2deb95-b017-4832-8190-647bdccfdbe4"
      },
      "cell_type": "code",
      "source": [
        "confusion_matrix(y_test, y_pred1)"
      ],
      "execution_count": 68,
      "outputs": [
        {
          "output_type": "execute_result",
          "data": {
            "text/plain": [
              "array([[72,  0,  0,  0,  0,  0,  0,  0,  0,  0],\n",
              "       [ 0, 62,  0,  0,  0,  0,  0,  0,  0,  0],\n",
              "       [ 0,  0, 70,  0,  0,  0,  0,  0,  0,  0],\n",
              "       [ 0,  0,  0, 69,  0,  0,  0,  0,  0,  0],\n",
              "       [ 0,  0,  0,  0, 72,  0,  0,  0,  0,  0],\n",
              "       [ 0,  0,  0,  0,  0, 73,  0,  0,  0,  2],\n",
              "       [ 0,  0,  0,  0,  0,  0, 76,  0,  1,  0],\n",
              "       [ 0,  0,  0,  0,  0,  0,  0, 76,  0,  1],\n",
              "       [ 0,  1,  0,  0,  0,  0,  1,  0, 66,  0],\n",
              "       [ 0,  0,  0,  1,  0,  0,  0,  0,  0, 76]])"
            ]
          },
          "metadata": {
            "tags": []
          },
          "execution_count": 68
        }
      ]
    },
    {
      "metadata": {
        "id": "7rcymb_rjb5v",
        "colab_type": "text"
      },
      "cell_type": "markdown",
      "source": [
        "###ii. Classification Report"
      ]
    },
    {
      "metadata": {
        "id": "4lymuGZnkHPx",
        "colab_type": "code",
        "colab": {
          "base_uri": "https://localhost:8080/",
          "height": 272
        },
        "outputId": "47cc58c4-b6de-48a2-8436-436b9afb3541"
      },
      "cell_type": "code",
      "source": [
        "report1 = classification_report(y_test,y_pred1)\n",
        "print(report1)"
      ],
      "execution_count": 69,
      "outputs": [
        {
          "output_type": "stream",
          "text": [
            "             precision    recall  f1-score   support\n",
            "\n",
            "          0       1.00      1.00      1.00        72\n",
            "          1       0.98      1.00      0.99        62\n",
            "          2       1.00      1.00      1.00        70\n",
            "          3       0.99      1.00      0.99        69\n",
            "          4       1.00      1.00      1.00        72\n",
            "          5       1.00      0.97      0.99        75\n",
            "          6       0.99      0.99      0.99        77\n",
            "          7       1.00      0.99      0.99        77\n",
            "          8       0.99      0.97      0.98        68\n",
            "          9       0.96      0.99      0.97        77\n",
            "\n",
            "avg / total       0.99      0.99      0.99       719\n",
            "\n"
          ],
          "name": "stdout"
        }
      ]
    },
    {
      "metadata": {
        "id": "ZysidIIMju8t",
        "colab_type": "text"
      },
      "cell_type": "markdown",
      "source": [
        "##c. Gaussian"
      ]
    },
    {
      "metadata": {
        "id": "HgKzsSu7lHMZ",
        "colab_type": "code",
        "colab": {
          "base_uri": "https://localhost:8080/",
          "height": 85
        },
        "outputId": "1f4dff66-f45c-4b56-a385-3b7c254c091f"
      },
      "cell_type": "code",
      "source": [
        "gauss = SVC(kernel='rbf')\n",
        "gauss.fit(x_train,y_train)\n"
      ],
      "execution_count": 70,
      "outputs": [
        {
          "output_type": "execute_result",
          "data": {
            "text/plain": [
              "SVC(C=1.0, cache_size=200, class_weight=None, coef0=0.0,\n",
              "  decision_function_shape='ovr', degree=3, gamma='auto', kernel='rbf',\n",
              "  max_iter=-1, probability=False, random_state=None, shrinking=True,\n",
              "  tol=0.001, verbose=False)"
            ]
          },
          "metadata": {
            "tags": []
          },
          "execution_count": 70
        }
      ]
    },
    {
      "metadata": {
        "id": "pC1IpgG5kdNI",
        "colab_type": "code",
        "colab": {}
      },
      "cell_type": "code",
      "source": [
        "y_pred2 = gauss.predict(x_test)"
      ],
      "execution_count": 0,
      "outputs": []
    },
    {
      "metadata": {
        "id": "gd6q3al7jnyU",
        "colab_type": "text"
      },
      "cell_type": "markdown",
      "source": [
        "###i. Confusion Matrix"
      ]
    },
    {
      "metadata": {
        "id": "nRF4OGXxkTr3",
        "colab_type": "code",
        "colab": {
          "base_uri": "https://localhost:8080/",
          "height": 187
        },
        "outputId": "9bf6ea6c-0909-4be2-e467-9738ae482b16"
      },
      "cell_type": "code",
      "source": [
        "confusion_matrix(y_test, y_pred2)"
      ],
      "execution_count": 72,
      "outputs": [
        {
          "output_type": "execute_result",
          "data": {
            "text/plain": [
              "array([[28,  0,  0, 44,  0,  0,  0,  0,  0,  0],\n",
              "       [ 0, 55,  0,  7,  0,  0,  0,  0,  0,  0],\n",
              "       [ 0,  0, 17, 53,  0,  0,  0,  0,  0,  0],\n",
              "       [ 0,  0,  0, 69,  0,  0,  0,  0,  0,  0],\n",
              "       [ 0,  0,  0, 48, 24,  0,  0,  0,  0,  0],\n",
              "       [ 0,  0,  0, 61,  0, 14,  0,  0,  0,  0],\n",
              "       [ 0,  0,  0, 35,  0,  0, 42,  0,  0,  0],\n",
              "       [ 0,  0,  0, 70,  0,  0,  0,  7,  0,  0],\n",
              "       [ 0,  0,  0, 65,  0,  0,  0,  0,  3,  0],\n",
              "       [ 0,  0,  0, 70,  0,  0,  0,  0,  0,  7]])"
            ]
          },
          "metadata": {
            "tags": []
          },
          "execution_count": 72
        }
      ]
    },
    {
      "metadata": {
        "id": "va2Z09zsjjyu",
        "colab_type": "text"
      },
      "cell_type": "markdown",
      "source": [
        "###ii. Classification Report"
      ]
    },
    {
      "metadata": {
        "id": "340h46HRkUmI",
        "colab_type": "code",
        "colab": {
          "base_uri": "https://localhost:8080/",
          "height": 272
        },
        "outputId": "7505a06a-4b05-4faa-c05f-1dcaf111159a"
      },
      "cell_type": "code",
      "source": [
        "report2 = classification_report(y_test,y_pred2)\n",
        "print(report2)"
      ],
      "execution_count": 73,
      "outputs": [
        {
          "output_type": "stream",
          "text": [
            "             precision    recall  f1-score   support\n",
            "\n",
            "          0       1.00      0.39      0.56        72\n",
            "          1       1.00      0.89      0.94        62\n",
            "          2       1.00      0.24      0.39        70\n",
            "          3       0.13      1.00      0.23        69\n",
            "          4       1.00      0.33      0.50        72\n",
            "          5       1.00      0.19      0.31        75\n",
            "          6       1.00      0.55      0.71        77\n",
            "          7       1.00      0.09      0.17        77\n",
            "          8       1.00      0.04      0.08        68\n",
            "          9       1.00      0.09      0.17        77\n",
            "\n",
            "avg / total       0.92      0.37      0.40       719\n",
            "\n"
          ],
          "name": "stdout"
        }
      ]
    },
    {
      "metadata": {
        "id": "SRo2Mpzvj4Ze",
        "colab_type": "text"
      },
      "cell_type": "markdown",
      "source": [
        "##d. Sigmoid"
      ]
    },
    {
      "metadata": {
        "id": "i6ciR7Jul_2U",
        "colab_type": "code",
        "colab": {
          "base_uri": "https://localhost:8080/",
          "height": 85
        },
        "outputId": "bc8ec549-454c-4d38-8eea-9b7aa1699a90"
      },
      "cell_type": "code",
      "source": [
        "sig = SVC(kernel='rbf')\n",
        "sig.fit(x_train,y_train)\n"
      ],
      "execution_count": 74,
      "outputs": [
        {
          "output_type": "execute_result",
          "data": {
            "text/plain": [
              "SVC(C=1.0, cache_size=200, class_weight=None, coef0=0.0,\n",
              "  decision_function_shape='ovr', degree=3, gamma='auto', kernel='rbf',\n",
              "  max_iter=-1, probability=False, random_state=None, shrinking=True,\n",
              "  tol=0.001, verbose=False)"
            ]
          },
          "metadata": {
            "tags": []
          },
          "execution_count": 74
        }
      ]
    },
    {
      "metadata": {
        "id": "ZGEn9ibzkggr",
        "colab_type": "code",
        "colab": {}
      },
      "cell_type": "code",
      "source": [
        "y_pred3 = sig.predict(x_test)"
      ],
      "execution_count": 0,
      "outputs": []
    },
    {
      "metadata": {
        "id": "W_mAslvxj5sS",
        "colab_type": "text"
      },
      "cell_type": "markdown",
      "source": [
        "###i. Confusion Matrix"
      ]
    },
    {
      "metadata": {
        "id": "TkSYDEpukmgw",
        "colab_type": "code",
        "colab": {
          "base_uri": "https://localhost:8080/",
          "height": 187
        },
        "outputId": "38ce3182-92ab-495d-abcd-87d86d807a1b"
      },
      "cell_type": "code",
      "source": [
        "confusion_matrix(y_test, y_pred3)"
      ],
      "execution_count": 76,
      "outputs": [
        {
          "output_type": "execute_result",
          "data": {
            "text/plain": [
              "array([[28,  0,  0, 44,  0,  0,  0,  0,  0,  0],\n",
              "       [ 0, 55,  0,  7,  0,  0,  0,  0,  0,  0],\n",
              "       [ 0,  0, 17, 53,  0,  0,  0,  0,  0,  0],\n",
              "       [ 0,  0,  0, 69,  0,  0,  0,  0,  0,  0],\n",
              "       [ 0,  0,  0, 48, 24,  0,  0,  0,  0,  0],\n",
              "       [ 0,  0,  0, 61,  0, 14,  0,  0,  0,  0],\n",
              "       [ 0,  0,  0, 35,  0,  0, 42,  0,  0,  0],\n",
              "       [ 0,  0,  0, 70,  0,  0,  0,  7,  0,  0],\n",
              "       [ 0,  0,  0, 65,  0,  0,  0,  0,  3,  0],\n",
              "       [ 0,  0,  0, 70,  0,  0,  0,  0,  0,  7]])"
            ]
          },
          "metadata": {
            "tags": []
          },
          "execution_count": 76
        }
      ]
    },
    {
      "metadata": {
        "id": "VmUeKLhEjltW",
        "colab_type": "text"
      },
      "cell_type": "markdown",
      "source": [
        "###ii. Classification Report"
      ]
    },
    {
      "metadata": {
        "id": "-16sBQLIjiRh",
        "colab_type": "code",
        "colab": {
          "base_uri": "https://localhost:8080/",
          "height": 272
        },
        "outputId": "ae7cf7f4-205b-4e1c-fe14-fabfb94137ea"
      },
      "cell_type": "code",
      "source": [
        "report3 = classification_report(y_test,y_pred3)\n",
        "print(report3)"
      ],
      "execution_count": 77,
      "outputs": [
        {
          "output_type": "stream",
          "text": [
            "             precision    recall  f1-score   support\n",
            "\n",
            "          0       1.00      0.39      0.56        72\n",
            "          1       1.00      0.89      0.94        62\n",
            "          2       1.00      0.24      0.39        70\n",
            "          3       0.13      1.00      0.23        69\n",
            "          4       1.00      0.33      0.50        72\n",
            "          5       1.00      0.19      0.31        75\n",
            "          6       1.00      0.55      0.71        77\n",
            "          7       1.00      0.09      0.17        77\n",
            "          8       1.00      0.04      0.08        68\n",
            "          9       1.00      0.09      0.17        77\n",
            "\n",
            "avg / total       0.92      0.37      0.40       719\n",
            "\n"
          ],
          "name": "stdout"
        }
      ]
    }
  ]
}