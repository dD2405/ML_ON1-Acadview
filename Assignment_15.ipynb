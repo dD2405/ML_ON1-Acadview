{
  "nbformat": 4,
  "nbformat_minor": 0,
  "metadata": {
    "colab": {
      "name": "Untitled8.ipynb",
      "version": "0.3.2",
      "provenance": [],
      "include_colab_link": true
    },
    "kernelspec": {
      "name": "python3",
      "display_name": "Python 3"
    }
  },
  "cells": [
    {
      "cell_type": "markdown",
      "metadata": {
        "id": "view-in-github",
        "colab_type": "text"
      },
      "source": [
        "[View in Colaboratory](https://colab.research.google.com/github/dD2405/ML_ON1-Acadview/blob/master/Assignment_15.ipynb)"
      ]
    },
    {
      "metadata": {
        "id": "6KXY0bnhShZd",
        "colab_type": "text"
      },
      "cell_type": "markdown",
      "source": [
        "#Load the dataset from sklearn"
      ]
    },
    {
      "metadata": {
        "id": "0e2mrCWASj7w",
        "colab_type": "code",
        "colab": {
          "base_uri": "https://localhost:8080/",
          "height": 17
        },
        "outputId": "9ee1d012-54a4-4d51-e9c8-3c974037e101"
      },
      "cell_type": "code",
      "source": [
        "from sklearn.datasets import load_digits\n",
        "import matplotlib.pyplot as plt\n",
        "\n",
        "var = load_digits()"
      ],
      "execution_count": 4,
      "outputs": []
    },
    {
      "metadata": {
        "id": "ko8MoaAdXlzw",
        "colab_type": "code",
        "colab": {
          "base_uri": "https://localhost:8080/",
          "height": 136
        },
        "outputId": "74f931d2-3dac-4a1f-f154-589633e18888"
      },
      "cell_type": "code",
      "source": [
        "x = var.data\n",
        "x"
      ],
      "execution_count": 5,
      "outputs": [
        {
          "output_type": "execute_result",
          "data": {
            "text/plain": [
              "array([[ 0.,  0.,  5., ...,  0.,  0.,  0.],\n",
              "       [ 0.,  0.,  0., ..., 10.,  0.,  0.],\n",
              "       [ 0.,  0.,  0., ..., 16.,  9.,  0.],\n",
              "       ...,\n",
              "       [ 0.,  0.,  1., ...,  6.,  0.,  0.],\n",
              "       [ 0.,  0.,  2., ..., 12.,  0.,  0.],\n",
              "       [ 0.,  0., 10., ..., 12.,  1.,  0.]])"
            ]
          },
          "metadata": {
            "tags": []
          },
          "execution_count": 5
        }
      ]
    },
    {
      "metadata": {
        "id": "z9IiGKNgXq_8",
        "colab_type": "code",
        "colab": {
          "base_uri": "https://localhost:8080/",
          "height": 34
        },
        "outputId": "1920d512-2eac-49a2-9ab0-13a945beb88c"
      },
      "cell_type": "code",
      "source": [
        "y = var.target\n",
        "y"
      ],
      "execution_count": 6,
      "outputs": [
        {
          "output_type": "execute_result",
          "data": {
            "text/plain": [
              "array([0, 1, 2, ..., 8, 9, 8])"
            ]
          },
          "metadata": {
            "tags": []
          },
          "execution_count": 6
        }
      ]
    },
    {
      "metadata": {
        "id": "G7vQFm33aQTp",
        "colab_type": "text"
      },
      "cell_type": "markdown",
      "source": [
        "#Split the dataset into training and testing sets using train_test_split()"
      ]
    },
    {
      "metadata": {
        "id": "LZvbbCPPaF4r",
        "colab_type": "code",
        "colab": {
          "base_uri": "https://localhost:8080/",
          "height": 17
        },
        "outputId": "dfc140d6-2649-4156-eb45-81191223125b"
      },
      "cell_type": "code",
      "source": [
        "from sklearn.cross_validation import train_test_split\n",
        "\n",
        "x_train , x_test , y_train , y_test = train_test_split(x, y , test_size = 0.40,random_state =355)"
      ],
      "execution_count": 9,
      "outputs": []
    },
    {
      "metadata": {
        "id": "kkbjmggriGZA",
        "colab_type": "code",
        "colab": {
          "base_uri": "https://localhost:8080/",
          "height": 17
        },
        "outputId": "f72c21c6-5c08-4685-cf77-6e75232237e0"
      },
      "cell_type": "code",
      "source": [
        "from sklearn.metrics import confusion_matrix,classification_report"
      ],
      "execution_count": 8,
      "outputs": []
    },
    {
      "metadata": {
        "id": "7vHIDu-1avDp",
        "colab_type": "text"
      },
      "cell_type": "markdown",
      "source": [
        "#Use SVM with kernels"
      ]
    },
    {
      "metadata": {
        "id": "B-dI8O0GdmsI",
        "colab_type": "code",
        "colab": {
          "base_uri": "https://localhost:8080/",
          "height": 17
        },
        "outputId": "7e9fcdf2-9a88-4795-e058-42b82795ca77"
      },
      "cell_type": "code",
      "source": [
        " from sklearn.svm import SVC"
      ],
      "execution_count": 10,
      "outputs": []
    },
    {
      "metadata": {
        "id": "LM2VwhaKb0j9",
        "colab_type": "text"
      },
      "cell_type": "markdown",
      "source": [
        "##a. Linear"
      ]
    },
    {
      "metadata": {
        "id": "g15aoDpgdljI",
        "colab_type": "code",
        "colab": {
          "base_uri": "https://localhost:8080/",
          "height": 85
        },
        "outputId": "62fd814d-039d-442a-aec1-2d9e3a542411"
      },
      "cell_type": "code",
      "source": [
        "lin = SVC(kernel='linear')\n",
        "lin.fit(x_train,y_train)\n",
        "\n"
      ],
      "execution_count": 11,
      "outputs": [
        {
          "output_type": "execute_result",
          "data": {
            "text/plain": [
              "SVC(C=1.0, cache_size=200, class_weight=None, coef0=0.0,\n",
              "  decision_function_shape='ovr', degree=3, gamma='auto', kernel='linear',\n",
              "  max_iter=-1, probability=False, random_state=None, shrinking=True,\n",
              "  tol=0.001, verbose=False)"
            ]
          },
          "metadata": {
            "tags": []
          },
          "execution_count": 11
        }
      ]
    },
    {
      "metadata": {
        "id": "_JqNbJZPhzZ2",
        "colab_type": "code",
        "colab": {
          "base_uri": "https://localhost:8080/",
          "height": 17
        },
        "outputId": "d7954ca3-a39b-4bb0-e988-6844abacb8ca"
      },
      "cell_type": "code",
      "source": [
        "y_pred = lin.predict(x_test)"
      ],
      "execution_count": 12,
      "outputs": []
    },
    {
      "metadata": {
        "id": "6O0FI0XWb7Hl",
        "colab_type": "text"
      },
      "cell_type": "markdown",
      "source": [
        "###i. Confusion Matrix"
      ]
    },
    {
      "metadata": {
        "id": "u-v3zex6bbfq",
        "colab_type": "code",
        "colab": {
          "base_uri": "https://localhost:8080/",
          "height": 187
        },
        "outputId": "5008144c-10ca-45bb-c8ad-83031185420e"
      },
      "cell_type": "code",
      "source": [
        "confusion_matrix(y_test, y_pred)"
      ],
      "execution_count": 13,
      "outputs": [
        {
          "output_type": "execute_result",
          "data": {
            "text/plain": [
              "array([[72,  0,  0,  0,  0,  0,  0,  0,  0,  0],\n",
              "       [ 0, 61,  0,  0,  0,  0,  0,  0,  1,  0],\n",
              "       [ 0,  0, 70,  0,  0,  0,  0,  0,  0,  0],\n",
              "       [ 0,  0,  0, 68,  0,  0,  0,  0,  1,  0],\n",
              "       [ 0,  0,  0,  0, 72,  0,  0,  0,  0,  0],\n",
              "       [ 0,  0,  0,  0,  0, 72,  0,  0,  0,  3],\n",
              "       [ 1,  0,  0,  0,  0,  0, 76,  0,  0,  0],\n",
              "       [ 0,  0,  0,  1,  0,  0,  0, 75,  0,  1],\n",
              "       [ 0,  3,  0,  0,  0,  0,  0,  1, 61,  3],\n",
              "       [ 0,  0,  0,  2,  0,  0,  0,  0,  0, 75]])"
            ]
          },
          "metadata": {
            "tags": []
          },
          "execution_count": 13
        }
      ]
    },
    {
      "metadata": {
        "id": "6PDhIilWiRUG",
        "colab_type": "text"
      },
      "cell_type": "markdown",
      "source": [
        "###ii. Classification Report"
      ]
    },
    {
      "metadata": {
        "id": "C7KLYL0riWz7",
        "colab_type": "code",
        "colab": {
          "base_uri": "https://localhost:8080/",
          "height": 272
        },
        "outputId": "5559d237-a44d-48b6-e9fc-703e9eec9073"
      },
      "cell_type": "code",
      "source": [
        "report = classification_report(y_test,y_pred)\n",
        "print(report)"
      ],
      "execution_count": 14,
      "outputs": [
        {
          "output_type": "stream",
          "text": [
            "             precision    recall  f1-score   support\n",
            "\n",
            "          0       0.99      1.00      0.99        72\n",
            "          1       0.95      0.98      0.97        62\n",
            "          2       1.00      1.00      1.00        70\n",
            "          3       0.96      0.99      0.97        69\n",
            "          4       1.00      1.00      1.00        72\n",
            "          5       1.00      0.96      0.98        75\n",
            "          6       1.00      0.99      0.99        77\n",
            "          7       0.99      0.97      0.98        77\n",
            "          8       0.97      0.90      0.93        68\n",
            "          9       0.91      0.97      0.94        77\n",
            "\n",
            "avg / total       0.98      0.98      0.98       719\n",
            "\n"
          ],
          "name": "stdout"
        }
      ]
    },
    {
      "metadata": {
        "id": "i_LWcXfEip0e",
        "colab_type": "text"
      },
      "cell_type": "markdown",
      "source": [
        "##b. Poly"
      ]
    },
    {
      "metadata": {
        "id": "Iwu6txyeitwZ",
        "colab_type": "code",
        "colab": {
          "base_uri": "https://localhost:8080/",
          "height": 85
        },
        "outputId": "c9033eca-474e-4f5e-8031-2b82e973ff4e"
      },
      "cell_type": "code",
      "source": [
        "pol = SVC(kernel='poly')\n",
        "pol.fit(x_train,y_train)\n",
        "\n"
      ],
      "execution_count": 15,
      "outputs": [
        {
          "output_type": "execute_result",
          "data": {
            "text/plain": [
              "SVC(C=1.0, cache_size=200, class_weight=None, coef0=0.0,\n",
              "  decision_function_shape='ovr', degree=3, gamma='auto', kernel='poly',\n",
              "  max_iter=-1, probability=False, random_state=None, shrinking=True,\n",
              "  tol=0.001, verbose=False)"
            ]
          },
          "metadata": {
            "tags": []
          },
          "execution_count": 15
        }
      ]
    },
    {
      "metadata": {
        "id": "rxbHxefqjAab",
        "colab_type": "code",
        "colab": {
          "base_uri": "https://localhost:8080/",
          "height": 17
        },
        "outputId": "e9bbd981-fabb-43da-d214-be106256b1cd"
      },
      "cell_type": "code",
      "source": [
        "y_pred1 = pol.predict(x_test)"
      ],
      "execution_count": 16,
      "outputs": []
    },
    {
      "metadata": {
        "id": "ATxfnvySjP2S",
        "colab_type": "text"
      },
      "cell_type": "markdown",
      "source": [
        "###i. Confusion Matrix"
      ]
    },
    {
      "metadata": {
        "id": "QtxlhmfjjMYF",
        "colab_type": "code",
        "colab": {
          "base_uri": "https://localhost:8080/",
          "height": 187
        },
        "outputId": "3e0c9301-254e-4c8a-906b-22d908a5b65d"
      },
      "cell_type": "code",
      "source": [
        "confusion_matrix(y_test, y_pred1)"
      ],
      "execution_count": 17,
      "outputs": [
        {
          "output_type": "execute_result",
          "data": {
            "text/plain": [
              "array([[72,  0,  0,  0,  0,  0,  0,  0,  0,  0],\n",
              "       [ 0, 62,  0,  0,  0,  0,  0,  0,  0,  0],\n",
              "       [ 0,  0, 70,  0,  0,  0,  0,  0,  0,  0],\n",
              "       [ 0,  0,  0, 69,  0,  0,  0,  0,  0,  0],\n",
              "       [ 0,  0,  0,  0, 72,  0,  0,  0,  0,  0],\n",
              "       [ 0,  0,  0,  0,  0, 73,  0,  0,  0,  2],\n",
              "       [ 0,  0,  0,  0,  0,  0, 76,  0,  1,  0],\n",
              "       [ 0,  0,  0,  0,  0,  0,  0, 76,  0,  1],\n",
              "       [ 0,  1,  0,  0,  0,  0,  1,  0, 66,  0],\n",
              "       [ 0,  0,  0,  1,  0,  0,  0,  0,  0, 76]])"
            ]
          },
          "metadata": {
            "tags": []
          },
          "execution_count": 17
        }
      ]
    },
    {
      "metadata": {
        "id": "7rcymb_rjb5v",
        "colab_type": "text"
      },
      "cell_type": "markdown",
      "source": [
        "###ii. Classification Report"
      ]
    },
    {
      "metadata": {
        "id": "4lymuGZnkHPx",
        "colab_type": "code",
        "colab": {
          "base_uri": "https://localhost:8080/",
          "height": 272
        },
        "outputId": "63bcbd93-5985-4baa-bac1-e9f8a132a66d"
      },
      "cell_type": "code",
      "source": [
        "report1 = classification_report(y_test,y_pred1)\n",
        "print(report1)"
      ],
      "execution_count": 18,
      "outputs": [
        {
          "output_type": "stream",
          "text": [
            "             precision    recall  f1-score   support\n",
            "\n",
            "          0       1.00      1.00      1.00        72\n",
            "          1       0.98      1.00      0.99        62\n",
            "          2       1.00      1.00      1.00        70\n",
            "          3       0.99      1.00      0.99        69\n",
            "          4       1.00      1.00      1.00        72\n",
            "          5       1.00      0.97      0.99        75\n",
            "          6       0.99      0.99      0.99        77\n",
            "          7       1.00      0.99      0.99        77\n",
            "          8       0.99      0.97      0.98        68\n",
            "          9       0.96      0.99      0.97        77\n",
            "\n",
            "avg / total       0.99      0.99      0.99       719\n",
            "\n"
          ],
          "name": "stdout"
        }
      ]
    },
    {
      "metadata": {
        "id": "ZysidIIMju8t",
        "colab_type": "text"
      },
      "cell_type": "markdown",
      "source": [
        "##c. Gaussian"
      ]
    },
    {
      "metadata": {
        "id": "HgKzsSu7lHMZ",
        "colab_type": "code",
        "colab": {
          "base_uri": "https://localhost:8080/",
          "height": 85
        },
        "outputId": "e4212c2f-6854-4923-f201-1224c19e9314"
      },
      "cell_type": "code",
      "source": [
        "gauss = SVC(kernel='rbf')\n",
        "gauss.fit(x_train,y_train)\n"
      ],
      "execution_count": 19,
      "outputs": [
        {
          "output_type": "execute_result",
          "data": {
            "text/plain": [
              "SVC(C=1.0, cache_size=200, class_weight=None, coef0=0.0,\n",
              "  decision_function_shape='ovr', degree=3, gamma='auto', kernel='rbf',\n",
              "  max_iter=-1, probability=False, random_state=None, shrinking=True,\n",
              "  tol=0.001, verbose=False)"
            ]
          },
          "metadata": {
            "tags": []
          },
          "execution_count": 19
        }
      ]
    },
    {
      "metadata": {
        "id": "pC1IpgG5kdNI",
        "colab_type": "code",
        "colab": {
          "base_uri": "https://localhost:8080/",
          "height": 17
        },
        "outputId": "d98e7978-4441-42e8-9c55-93571c26194a"
      },
      "cell_type": "code",
      "source": [
        "y_pred2 = gauss.predict(x_test)"
      ],
      "execution_count": 20,
      "outputs": []
    },
    {
      "metadata": {
        "id": "gd6q3al7jnyU",
        "colab_type": "text"
      },
      "cell_type": "markdown",
      "source": [
        "###i. Confusion Matrix"
      ]
    },
    {
      "metadata": {
        "id": "nRF4OGXxkTr3",
        "colab_type": "code",
        "colab": {
          "base_uri": "https://localhost:8080/",
          "height": 187
        },
        "outputId": "d435e175-3508-4216-cde0-a1854d9bf17d"
      },
      "cell_type": "code",
      "source": [
        "confusion_matrix(y_test, y_pred2)"
      ],
      "execution_count": 21,
      "outputs": [
        {
          "output_type": "execute_result",
          "data": {
            "text/plain": [
              "array([[28,  0,  0, 44,  0,  0,  0,  0,  0,  0],\n",
              "       [ 0, 55,  0,  7,  0,  0,  0,  0,  0,  0],\n",
              "       [ 0,  0, 17, 53,  0,  0,  0,  0,  0,  0],\n",
              "       [ 0,  0,  0, 69,  0,  0,  0,  0,  0,  0],\n",
              "       [ 0,  0,  0, 48, 24,  0,  0,  0,  0,  0],\n",
              "       [ 0,  0,  0, 61,  0, 14,  0,  0,  0,  0],\n",
              "       [ 0,  0,  0, 35,  0,  0, 42,  0,  0,  0],\n",
              "       [ 0,  0,  0, 70,  0,  0,  0,  7,  0,  0],\n",
              "       [ 0,  0,  0, 65,  0,  0,  0,  0,  3,  0],\n",
              "       [ 0,  0,  0, 70,  0,  0,  0,  0,  0,  7]])"
            ]
          },
          "metadata": {
            "tags": []
          },
          "execution_count": 21
        }
      ]
    },
    {
      "metadata": {
        "id": "va2Z09zsjjyu",
        "colab_type": "text"
      },
      "cell_type": "markdown",
      "source": [
        "###ii. Classification Report"
      ]
    },
    {
      "metadata": {
        "id": "340h46HRkUmI",
        "colab_type": "code",
        "colab": {
          "base_uri": "https://localhost:8080/",
          "height": 272
        },
        "outputId": "4918a06c-4b4e-45e5-a565-b6f46a802521"
      },
      "cell_type": "code",
      "source": [
        "report2 = classification_report(y_test,y_pred2)\n",
        "print(report2)"
      ],
      "execution_count": 22,
      "outputs": [
        {
          "output_type": "stream",
          "text": [
            "             precision    recall  f1-score   support\n",
            "\n",
            "          0       1.00      0.39      0.56        72\n",
            "          1       1.00      0.89      0.94        62\n",
            "          2       1.00      0.24      0.39        70\n",
            "          3       0.13      1.00      0.23        69\n",
            "          4       1.00      0.33      0.50        72\n",
            "          5       1.00      0.19      0.31        75\n",
            "          6       1.00      0.55      0.71        77\n",
            "          7       1.00      0.09      0.17        77\n",
            "          8       1.00      0.04      0.08        68\n",
            "          9       1.00      0.09      0.17        77\n",
            "\n",
            "avg / total       0.92      0.37      0.40       719\n",
            "\n"
          ],
          "name": "stdout"
        }
      ]
    },
    {
      "metadata": {
        "id": "SRo2Mpzvj4Ze",
        "colab_type": "text"
      },
      "cell_type": "markdown",
      "source": [
        "##d. Sigmoid"
      ]
    },
    {
      "metadata": {
        "id": "i6ciR7Jul_2U",
        "colab_type": "code",
        "colab": {
          "base_uri": "https://localhost:8080/",
          "height": 85
        },
        "outputId": "4f64738c-bd35-4673-d40e-1c146edb3d94"
      },
      "cell_type": "code",
      "source": [
        "sig = SVC(kernel='sigmoid')\n",
        "sig.fit(x_train,y_train)\n"
      ],
      "execution_count": 23,
      "outputs": [
        {
          "output_type": "execute_result",
          "data": {
            "text/plain": [
              "SVC(C=1.0, cache_size=200, class_weight=None, coef0=0.0,\n",
              "  decision_function_shape='ovr', degree=3, gamma='auto', kernel='sigmoid',\n",
              "  max_iter=-1, probability=False, random_state=None, shrinking=True,\n",
              "  tol=0.001, verbose=False)"
            ]
          },
          "metadata": {
            "tags": []
          },
          "execution_count": 23
        }
      ]
    },
    {
      "metadata": {
        "id": "ZGEn9ibzkggr",
        "colab_type": "code",
        "colab": {
          "base_uri": "https://localhost:8080/",
          "height": 17
        },
        "outputId": "fd2d4535-c57c-419c-89e7-b82b35d8e30c"
      },
      "cell_type": "code",
      "source": [
        "y_pred3 = sig.predict(x_test)"
      ],
      "execution_count": 24,
      "outputs": []
    },
    {
      "metadata": {
        "id": "W_mAslvxj5sS",
        "colab_type": "text"
      },
      "cell_type": "markdown",
      "source": [
        "###i. Confusion Matrix"
      ]
    },
    {
      "metadata": {
        "id": "TkSYDEpukmgw",
        "colab_type": "code",
        "colab": {
          "base_uri": "https://localhost:8080/",
          "height": 187
        },
        "outputId": "83378bbb-3aa3-4f1f-8b69-bee1ad5cc170"
      },
      "cell_type": "code",
      "source": [
        "confusion_matrix(y_test, y_pred3)"
      ],
      "execution_count": 25,
      "outputs": [
        {
          "output_type": "execute_result",
          "data": {
            "text/plain": [
              "array([[ 0, 72,  0,  0,  0,  0,  0,  0,  0,  0],\n",
              "       [ 0, 62,  0,  0,  0,  0,  0,  0,  0,  0],\n",
              "       [ 0, 70,  0,  0,  0,  0,  0,  0,  0,  0],\n",
              "       [ 0, 69,  0,  0,  0,  0,  0,  0,  0,  0],\n",
              "       [ 0, 72,  0,  0,  0,  0,  0,  0,  0,  0],\n",
              "       [ 0, 75,  0,  0,  0,  0,  0,  0,  0,  0],\n",
              "       [ 0, 77,  0,  0,  0,  0,  0,  0,  0,  0],\n",
              "       [ 0, 77,  0,  0,  0,  0,  0,  0,  0,  0],\n",
              "       [ 0, 68,  0,  0,  0,  0,  0,  0,  0,  0],\n",
              "       [ 0, 77,  0,  0,  0,  0,  0,  0,  0,  0]])"
            ]
          },
          "metadata": {
            "tags": []
          },
          "execution_count": 25
        }
      ]
    },
    {
      "metadata": {
        "id": "VmUeKLhEjltW",
        "colab_type": "text"
      },
      "cell_type": "markdown",
      "source": [
        "###ii. Classification Report"
      ]
    },
    {
      "metadata": {
        "id": "-16sBQLIjiRh",
        "colab_type": "code",
        "colab": {
          "base_uri": "https://localhost:8080/",
          "height": 326
        },
        "outputId": "3d136675-f6e1-4c74-ba5e-2decfb65acc1"
      },
      "cell_type": "code",
      "source": [
        "report3 = classification_report(y_test,y_pred3)\n",
        "print(report3)"
      ],
      "execution_count": 26,
      "outputs": [
        {
          "output_type": "stream",
          "text": [
            "             precision    recall  f1-score   support\n",
            "\n",
            "          0       0.00      0.00      0.00        72\n",
            "          1       0.09      1.00      0.16        62\n",
            "          2       0.00      0.00      0.00        70\n",
            "          3       0.00      0.00      0.00        69\n",
            "          4       0.00      0.00      0.00        72\n",
            "          5       0.00      0.00      0.00        75\n",
            "          6       0.00      0.00      0.00        77\n",
            "          7       0.00      0.00      0.00        77\n",
            "          8       0.00      0.00      0.00        68\n",
            "          9       0.00      0.00      0.00        77\n",
            "\n",
            "avg / total       0.01      0.09      0.01       719\n",
            "\n"
          ],
          "name": "stdout"
        },
        {
          "output_type": "stream",
          "text": [
            "/usr/local/lib/python3.6/dist-packages/sklearn/metrics/classification.py:1135: UndefinedMetricWarning: Precision and F-score are ill-defined and being set to 0.0 in labels with no predicted samples.\n",
            "  'precision', 'predicted', average, warn_for)\n"
          ],
          "name": "stderr"
        }
      ]
    }
  ]
}