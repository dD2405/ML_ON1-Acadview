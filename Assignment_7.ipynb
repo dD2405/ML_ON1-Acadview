{
  "nbformat": 4,
  "nbformat_minor": 0,
  "metadata": {
    "colab": {
      "name": "Untitled5.ipynb",
      "version": "0.3.2",
      "provenance": []
    },
    "kernelspec": {
      "name": "python3",
      "display_name": "Python 3"
    }
  },
  "cells": [
    {
      "cell_type": "markdown",
      "metadata": {
        "id": "view-in-github",
        "colab_type": "text"
      },
      "source": [
        "[View in Colaboratory](https://colab.research.google.com/github/dD2405/ML_ON1-Acadview/blob/master/Assignment_7.ipynb)"
      ]
    },
    {
      "metadata": {
        "id": "roS-uXyho2rR",
        "colab_type": "text"
      },
      "cell_type": "markdown",
      "source": [
        "\n",
        "# Exploratory Data analysis on White Wine Dataset\n",
        "\n",
        "###The project is aimed at looking and finding deep insights of the white wine dataset. The report also aims in bringing us to a conclusion so as to what are the factors that affect the quality of wine.\n",
        "\n",
        "###The data used is based on the wine quality dataset as recommended by Udacity. The features of the dataset are as follows , This dataset has 13 variables which contains 9 variables of ingredient, 2 variables of physical properity, 1 variable of quantity and 1 of quality. The dataset are of the size 4989 , 13. The libraries used for the data are , tidyverse and GGally. The libraries are used for visualization which can help us to come to conclusion. "
      ]
    },
    {
      "metadata": {
        "id": "SBnavJ7xreNx",
        "colab_type": "text"
      },
      "cell_type": "markdown",
      "source": [
        "#Data description\n",
        "\n",
        "###The data is in csv format.In computing, a comma-separated values (CSV) file stores tabular data (numbers and text) in plain text. Each line of the file is a data record. Each record consists of one or more fields, separated by commas.\n",
        "###All wines are produced in a particular area of Portugal. Data are collected on 12 different properties of the wines one of which is Quality, based on sensory data, and the rest are on chemical properties of the wines including density, acidity, alcohol content etc. All chemical properties of wines are continuous variables. Quality is an ordinal variable with possible ranking from 1 (worst) to 10 (best). Each variety of wine is tasted by three independent tasters and the final rank assigned is the median rank given by the tasters.\n",
        "\n",
        "\n"
      ]
    },
    {
      "metadata": {
        "id": "1Cu-q5PTsc7T",
        "colab_type": "code",
        "colab": {
          "base_uri": "https://localhost:8080/",
          "height": 238
        },
        "outputId": "db93d510-a8b6-41f0-85da-60f612defcb6"
      },
      "cell_type": "code",
      "source": [
        "\n",
        "import pandas as pd\n",
        "import numpy as np\n",
        "import matplotlib as plt\n",
        "\n",
        "df = pd.read_csv('https://raw.githubusercontent.com/Shreyas3108/May28thMLbatcj/master/wineQualityWhites.csv')\n",
        "df.pop('Unnamed: 0')\n",
        "df.isnull().sum()\n"
      ],
      "execution_count": 23,
      "outputs": [
        {
          "output_type": "execute_result",
          "data": {
            "text/plain": [
              "fixed.acidity           0\n",
              "volatile.acidity        0\n",
              "citric.acid             0\n",
              "residual.sugar          0\n",
              "chlorides               0\n",
              "free.sulfur.dioxide     0\n",
              "total.sulfur.dioxide    0\n",
              "density                 0\n",
              "pH                      0\n",
              "sulphates               0\n",
              "alcohol                 0\n",
              "quality                 0\n",
              "dtype: int64"
            ]
          },
          "metadata": {
            "tags": []
          },
          "execution_count": 23
        }
      ]
    },
    {
      "metadata": {
        "id": "yFMMKREHsATc",
        "colab_type": "text"
      },
      "cell_type": "markdown",
      "source": [
        ""
      ]
    }
  ]
}