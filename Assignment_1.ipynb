{
  "nbformat": 4,
  "nbformat_minor": 0,
  "metadata": {
    "colab": {
      "name": "Assignment_1.ipynb",
      "version": "0.3.2",
      "provenance": []
    },
    "kernelspec": {
      "name": "python3",
      "display_name": "Python 3"
    }
  },
  "cells": [
    {
      "metadata": {
        "id": "Mqre1NS1lw3Y",
        "colab_type": "code",
        "colab": {
          "base_uri": "https://localhost:8080/",
          "height": 34
        },
        "outputId": "00221546-97aa-405b-b133-9d68bcef4f15"
      },
      "cell_type": "code",
      "source": [
        "#Question 1\n",
        "\n",
        "x = [1,2,3,4,5,6,7,8,9,10,11,12,13,14,15,16]\n",
        "\n",
        "#forward slicing \n",
        "x[7:12]\n",
        "\n",
        "#backward slicing \n",
        "x[-9:-4]\n"
      ],
      "execution_count": 7,
      "outputs": [
        {
          "output_type": "execute_result",
          "data": {
            "text/plain": [
              "[8, 9, 10, 11, 12]"
            ]
          },
          "metadata": {
            "tags": []
          },
          "execution_count": 7
        }
      ]
    },
    {
      "metadata": {
        "id": "Hcm5IE-JIe6w",
        "colab_type": "code",
        "colab": {
          "base_uri": "https://localhost:8080/",
          "height": 34
        },
        "outputId": "0ade619a-711c-4cf0-8dc8-5ed3c531c597"
      },
      "cell_type": "code",
      "source": [
        "#Question 2\n",
        "\n",
        "x = [1,2,3,4,5,6,7,8,9,10,11,12,13,14,15,16]\n",
        "\n",
        "#printing even numbers\n",
        "x[1::2]\n",
        "\n"
      ],
      "execution_count": 9,
      "outputs": [
        {
          "output_type": "execute_result",
          "data": {
            "text/plain": [
              "[2, 4, 6, 8, 10, 12, 14, 16]"
            ]
          },
          "metadata": {
            "tags": []
          },
          "execution_count": 9
        }
      ]
    },
    {
      "metadata": {
        "id": "iD6lBjfVI4EL",
        "colab_type": "code",
        "colab": {
          "base_uri": "https://localhost:8080/",
          "height": 34
        },
        "outputId": "13cd54bf-e173-4feb-c3cb-f1e2b64f3976"
      },
      "cell_type": "code",
      "source": [
        "#Question 3\n",
        "\n",
        "x = [1,2,3,4,5,6,7,8,9,10,11,12,13,14,15,16]\n",
        "\n",
        "#printing every 4th number\n",
        "x[0::4]"
      ],
      "execution_count": 11,
      "outputs": [
        {
          "output_type": "execute_result",
          "data": {
            "text/plain": [
              "[1, 5, 9, 13]"
            ]
          },
          "metadata": {
            "tags": []
          },
          "execution_count": 11
        }
      ]
    }
  ]
}